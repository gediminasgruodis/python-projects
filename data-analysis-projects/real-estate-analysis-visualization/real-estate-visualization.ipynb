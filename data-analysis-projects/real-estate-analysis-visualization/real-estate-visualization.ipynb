{
 "cells": [
  {
   "cell_type": "code",
   "execution_count": 12,
   "metadata": {},
   "outputs": [],
   "source": [
    "#Importing modules\n",
    "import requests\n",
    "from bs4 import BeautifulSoup as bs\n",
    "import pandas as pd\n",
    "import numpy as np\n",
    "import datetime as dt\n",
    "import pyodbc\n",
    "from sqlalchemy import create_engine\n",
    "import urllib\n",
    "from geopy.geocoders import Nominatim"
   ]
  },
  {
   "cell_type": "markdown",
   "metadata": {},
   "source": [
    "## Get data from all pages of the housing website"
   ]
  },
  {
   "cell_type": "code",
   "execution_count": 3,
   "metadata": {},
   "outputs": [
    {
     "name": "stdout",
     "output_type": "stream",
     "text": [
      "Loaded 270 price rows\n"
     ]
    }
   ],
   "source": [
    "#Price\n",
    "#Creating a loop that gets price information from all 159 pages\n",
    "page = 1\n",
    "price_column = []\n",
    "while page != 10:\n",
    "      url = f\"https://domoplius.lt/skelbimai/butai?action_type=1&address_1=461&category_search=1&page_nr={page}&slist=141259750\"\n",
    "      response = requests.get(url)\n",
    "      response_content = response.content\n",
    "      soup = bs(response_content, 'html.parser')\n",
    "    \n",
    "      for element in soup.select('p strong'):\n",
    "            price_column.append(element.get_text(separator=\" \", strip=True))\n",
    "      page = page + 1\n",
    "df_prices = pd.DataFrame(price_column, columns = ['Price'])\n",
    "print(f'Loaded {len(df_prices)} price rows')"
   ]
  },
  {
   "cell_type": "code",
   "execution_count": 4,
   "metadata": {},
   "outputs": [
    {
     "name": "stdout",
     "output_type": "stream",
     "text": [
      "Loaded 270 sqm rows\n"
     ]
    }
   ],
   "source": [
    "#Square meters\n",
    "#Creating a loop that gets sqm information from all 159 pages\n",
    "page = 1\n",
    "sqm_column = []\n",
    "while page != 10:\n",
    "      url = f\"https://domoplius.lt/skelbimai/butai?action_type=1&address_1=461&category_search=1&page_nr={page}&slist=141259750\"\n",
    "      response = requests.get(url)\n",
    "      response_content = response.content\n",
    "      soup = bs(response_content, 'html.parser')\n",
    "    \n",
    "      for element in soup.find_all(attrs={\"title\" : \"Buto plotas (kv. m)\"}):\n",
    "            sqm_column.append(element.get_text(separator=\" \", strip=True))\n",
    "      page = page + 1\n",
    "df_sqm = pd.DataFrame(sqm_column, columns = ['Area'])\n",
    "print(f'Loaded {len(df_sqm)} sqm rows')"
   ]
  },
  {
   "cell_type": "code",
   "execution_count": 5,
   "metadata": {},
   "outputs": [
    {
     "name": "stdout",
     "output_type": "stream",
     "text": [
      "Loaded 270 rooms rows\n"
     ]
    }
   ],
   "source": [
    "#Rooms\n",
    "#Creating a loop that gets room information from all 159 pages\n",
    "page = 1\n",
    "rooms_column = []\n",
    "while page != 10:\n",
    "      url = f\"https://domoplius.lt/skelbimai/butai?action_type=1&address_1=461&category_search=1&page_nr={page}&slist=141259750\"\n",
    "      response = requests.get(url)\n",
    "      response_content = response.content\n",
    "      soup = bs(response_content, 'html.parser')\n",
    "    \n",
    "      for element in soup.find_all(attrs={\"title\" : \"Kambarių skaičius\"}):\n",
    "            rooms_column.append(element.get_text(separator=\" \", strip=True))\n",
    "      page = page + 1\n",
    "df_rooms = pd.DataFrame(rooms_column, columns = ['Rooms'])\n",
    "print(f'Loaded {len(df_rooms)} rooms rows')"
   ]
  },
  {
   "cell_type": "code",
   "execution_count": 6,
   "metadata": {},
   "outputs": [
    {
     "name": "stdout",
     "output_type": "stream",
     "text": [
      "Loaded 270 year rows\n"
     ]
    }
   ],
   "source": [
    "#Year\n",
    "#Creating a loop that gets year information from all 159 pages\n",
    "page = 1\n",
    "years_column = []\n",
    "while page != 10:\n",
    "      url = f\"https://domoplius.lt/skelbimai/butai?action_type=1&address_1=461&category_search=1&page_nr={page}&slist=141259750\"\n",
    "      response = requests.get(url)\n",
    "      response_content = response.content\n",
    "      soup = bs(response_content, 'html.parser')\n",
    "    \n",
    "      for element in soup.find_all(attrs={\"title\" : \"Statybos metai\"}):\n",
    "            years_column.append(element.get_text(separator=\" \", strip=True))\n",
    "      page = page + 1\n",
    "df_year = pd.DataFrame(years_column, columns = ['Year'])\n",
    "print(f'Loaded {len(df_year)} year rows')"
   ]
  },
  {
   "cell_type": "code",
   "execution_count": 10,
   "metadata": {},
   "outputs": [
    {
     "name": "stdout",
     "output_type": "stream",
     "text": [
      "Loaded 270 floor rows\n"
     ]
    }
   ],
   "source": [
    "#Floor\n",
    "#Creating a loop that gets floor information from all 159 pages\n",
    "page = 1\n",
    "floor_column = []\n",
    "while page != 10:\n",
    "      url = f\"https://domoplius.lt/skelbimai/butai?action_type=1&address_1=461&category_search=1&page_nr={page}&slist=141259750\"\n",
    "      response = requests.get(url)\n",
    "      response_content = response.content\n",
    "      soup = bs(response_content, 'html.parser')\n",
    "    \n",
    "      for element in soup.find_all(attrs={\"title\" : \"Aukštas\"}):\n",
    "            floor_column.append(element.get_text(separator=\" \", strip=True))\n",
    "      page = page + 1\n",
    "df_floor = pd.DataFrame(floor_column, columns = ['Floor'])\n",
    "print(f'Loaded {len(df_floor)} floor rows')"
   ]
  },
  {
   "cell_type": "code",
   "execution_count": 7,
   "metadata": {},
   "outputs": [
    {
     "name": "stdout",
     "output_type": "stream",
     "text": [
      "Loaded 270 link rows\n"
     ]
    }
   ],
   "source": [
    "#Links\n",
    "#Creating a loop that gets links information from all 159 pages\n",
    "page = 1\n",
    "links_column = []\n",
    "while page != 10:\n",
    "      url = f\"https://domoplius.lt/skelbimai/butai?action_type=1&address_1=461&category_search=1&page_nr={page}&slist=141259750\"\n",
    "      response = requests.get(url)\n",
    "      response_content = response.content\n",
    "      soup = bs(response_content, 'html.parser')\n",
    "    \n",
    "      for element in soup.find_all(\"h2\", \"title-list\"):\n",
    "            links_column.append(element.a.get(\"href\"))\n",
    "      page = page + 1\n",
    "df_link = pd.DataFrame(links_column, columns = ['Link'])\n",
    "print(f'Loaded {len(df_link)} link rows')"
   ]
  },
  {
   "cell_type": "code",
   "execution_count": 8,
   "metadata": {},
   "outputs": [
    {
     "name": "stdout",
     "output_type": "stream",
     "text": [
      "Loaded 270 location rows\n"
     ]
    }
   ],
   "source": [
    "#Location\n",
    "#Creating a loop that gets links information from all 159 pages\n",
    "page = 1\n",
    "location_column = []\n",
    "while page != 10:\n",
    "      url = f\"https://domoplius.lt/skelbimai/butai?action_type=1&address_1=461&category_search=1&page_nr={page}&slist=141259750\"\n",
    "      response = requests.get(url)\n",
    "      response_content = response.content\n",
    "      soup = bs(response_content, 'html.parser')\n",
    "    \n",
    "      for element in soup.find_all(\"h2\", \"title-list\"):\n",
    "            location_column.append(element.a.get(\"title\"))\n",
    "      page = page + 1\n",
    "df_location = pd.DataFrame(location_column, columns = ['Location'])\n",
    "print(f'Loaded {len(df_link)} location rows')"
   ]
  },
  {
   "cell_type": "markdown",
   "metadata": {},
   "source": [
    "## Creating a complete dataset"
   ]
  },
  {
   "cell_type": "code",
   "execution_count": 14,
   "metadata": {},
   "outputs": [
    {
     "name": "stderr",
     "output_type": "stream",
     "text": [
      "<ipython-input-14-8b0dfd4dd7fd>:15: FutureWarning: The default value of regex will change from True to False in a future version.\n",
      "  df_re['Rooms'] = df_re['Rooms'].str.replace(\"kamb.\", \"\").astype(int)\n",
      "<ipython-input-14-8b0dfd4dd7fd>:21: FutureWarning: The default value of regex will change from True to False in a future version.\n",
      "  df_re['Year'] = df_re['Year'].str.replace(\" m.\", \"\").str.replace(\"m.\", \"\")\n",
      "<ipython-input-14-8b0dfd4dd7fd>:24: FutureWarning: The default value of regex will change from True to False in a future version.\n",
      "  df_re['Floor'] = df_re['Floor'].str.replace(\" a.\", \"\")\n",
      "<ipython-input-14-8b0dfd4dd7fd>:27: FutureWarning: In a future version of pandas all arguments of DataFrame.drop except for the argument 'labels' will be keyword-only\n",
      "  df_re = df_re.drop('Floor', 1)\n",
      "<ipython-input-14-8b0dfd4dd7fd>:34: FutureWarning: In a future version of pandas all arguments of DataFrame.drop except for the argument 'labels' will be keyword-only\n",
      "  df_re = df_re.drop('Location', 1)\n",
      "<ipython-input-14-8b0dfd4dd7fd>:36: FutureWarning: In a future version of pandas all arguments of DataFrame.drop except for the argument 'labels' will be keyword-only\n",
      "  df_re = df_re.drop('Location2', 1)\n"
     ]
    },
    {
     "data": {
      "text/html": [
       "<div>\n",
       "<style scoped>\n",
       "    .dataframe tbody tr th:only-of-type {\n",
       "        vertical-align: middle;\n",
       "    }\n",
       "\n",
       "    .dataframe tbody tr th {\n",
       "        vertical-align: top;\n",
       "    }\n",
       "\n",
       "    .dataframe thead th {\n",
       "        text-align: right;\n",
       "    }\n",
       "</style>\n",
       "<table border=\"1\" class=\"dataframe\">\n",
       "  <thead>\n",
       "    <tr style=\"text-align: right;\">\n",
       "      <th></th>\n",
       "      <th>Date</th>\n",
       "      <th>Price</th>\n",
       "      <th>Area</th>\n",
       "      <th>PriceSqm</th>\n",
       "      <th>Rooms</th>\n",
       "      <th>Year</th>\n",
       "      <th>Link</th>\n",
       "      <th>ApartmentFloor</th>\n",
       "      <th>TotalFloors</th>\n",
       "      <th>Type</th>\n",
       "      <th>Neighborhood</th>\n",
       "      <th>Street</th>\n",
       "      <th>City</th>\n",
       "      <th>Address</th>\n",
       "      <th>Latitude</th>\n",
       "      <th>Longitude</th>\n",
       "    </tr>\n",
       "  </thead>\n",
       "  <tbody>\n",
       "    <tr>\n",
       "      <th>0</th>\n",
       "      <td>2022-06-16 20:32:29</td>\n",
       "      <td>279000</td>\n",
       "      <td>66.51</td>\n",
       "      <td>4194.857916</td>\n",
       "      <td>3</td>\n",
       "      <td>2014</td>\n",
       "      <td>https://domoplius.lt/skelbimai/parduodamas-3-k...</td>\n",
       "      <td>2</td>\n",
       "      <td>9</td>\n",
       "      <td>3 kambarių butas</td>\n",
       "      <td>Naujamiestyje</td>\n",
       "      <td>A. Vivulskio g.</td>\n",
       "      <td>Vilnius</td>\n",
       "      <td>Vilnius,  A. Vivulskio g.</td>\n",
       "      <td>54.679536</td>\n",
       "      <td>25.269072</td>\n",
       "    </tr>\n",
       "    <tr>\n",
       "      <th>1</th>\n",
       "      <td>2022-06-16 20:32:29</td>\n",
       "      <td>195000</td>\n",
       "      <td>83.52</td>\n",
       "      <td>2334.770115</td>\n",
       "      <td>3</td>\n",
       "      <td>2005</td>\n",
       "      <td>https://domoplius.lt/skelbimai/parduodamas-3-k...</td>\n",
       "      <td>6</td>\n",
       "      <td>8</td>\n",
       "      <td>3 kambarių butas</td>\n",
       "      <td>Pašilaičiuose</td>\n",
       "      <td>Ukmergės g.</td>\n",
       "      <td>Vilnius</td>\n",
       "      <td>Vilnius,  Ukmergės g.</td>\n",
       "      <td>54.737012</td>\n",
       "      <td>25.230722</td>\n",
       "    </tr>\n",
       "    <tr>\n",
       "      <th>2</th>\n",
       "      <td>2022-06-16 20:32:29</td>\n",
       "      <td>200000</td>\n",
       "      <td>80.00</td>\n",
       "      <td>2500.000000</td>\n",
       "      <td>3</td>\n",
       "      <td>2008</td>\n",
       "      <td>https://domoplius.lt/skelbimai/parduodamas-3-k...</td>\n",
       "      <td>5</td>\n",
       "      <td>9</td>\n",
       "      <td>3 kambarių butas</td>\n",
       "      <td>Pašilaičiuose</td>\n",
       "      <td>Perkūnkiemio g.</td>\n",
       "      <td>Vilnius</td>\n",
       "      <td>Vilnius,  Perkūnkiemio g.</td>\n",
       "      <td>54.736542</td>\n",
       "      <td>25.217380</td>\n",
       "    </tr>\n",
       "    <tr>\n",
       "      <th>3</th>\n",
       "      <td>2022-06-16 20:32:29</td>\n",
       "      <td>165000</td>\n",
       "      <td>65.54</td>\n",
       "      <td>2517.546536</td>\n",
       "      <td>2</td>\n",
       "      <td>2006</td>\n",
       "      <td>https://domoplius.lt/skelbimai/parduodamas-2-k...</td>\n",
       "      <td>8</td>\n",
       "      <td>11</td>\n",
       "      <td>2 kambarių butas</td>\n",
       "      <td>Santariškėse</td>\n",
       "      <td>Bajorų kel.</td>\n",
       "      <td>Vilnius</td>\n",
       "      <td>Vilnius,  Bajorų kel.</td>\n",
       "      <td>54.755798</td>\n",
       "      <td>25.260409</td>\n",
       "    </tr>\n",
       "    <tr>\n",
       "      <th>4</th>\n",
       "      <td>2022-06-16 20:32:29</td>\n",
       "      <td>165000</td>\n",
       "      <td>65.54</td>\n",
       "      <td>2517.546536</td>\n",
       "      <td>2</td>\n",
       "      <td>2006</td>\n",
       "      <td>https://domoplius.lt/skelbimai/parduodamas-2-k...</td>\n",
       "      <td>8</td>\n",
       "      <td>11</td>\n",
       "      <td>2 kambarių butas</td>\n",
       "      <td>Visoriuose</td>\n",
       "      <td>Bajorų kel.</td>\n",
       "      <td>Vilnius</td>\n",
       "      <td>Vilnius,  Bajorų kel.</td>\n",
       "      <td>54.755798</td>\n",
       "      <td>25.260409</td>\n",
       "    </tr>\n",
       "  </tbody>\n",
       "</table>\n",
       "</div>"
      ],
      "text/plain": [
       "                 Date   Price   Area     PriceSqm  Rooms  Year  \\\n",
       "0 2022-06-16 20:32:29  279000  66.51  4194.857916      3  2014   \n",
       "1 2022-06-16 20:32:29  195000  83.52  2334.770115      3  2005   \n",
       "2 2022-06-16 20:32:29  200000  80.00  2500.000000      3  2008   \n",
       "3 2022-06-16 20:32:29  165000  65.54  2517.546536      2  2006   \n",
       "4 2022-06-16 20:32:29  165000  65.54  2517.546536      2  2006   \n",
       "\n",
       "                                                Link ApartmentFloor  \\\n",
       "0  https://domoplius.lt/skelbimai/parduodamas-3-k...              2   \n",
       "1  https://domoplius.lt/skelbimai/parduodamas-3-k...              6   \n",
       "2  https://domoplius.lt/skelbimai/parduodamas-3-k...              5   \n",
       "3  https://domoplius.lt/skelbimai/parduodamas-2-k...              8   \n",
       "4  https://domoplius.lt/skelbimai/parduodamas-2-k...              8   \n",
       "\n",
       "  TotalFloors               Type    Neighborhood            Street     City  \\\n",
       "0           9  3 kambarių butas    Naujamiestyje   A. Vivulskio g.  Vilnius   \n",
       "1           8  3 kambarių butas    Pašilaičiuose       Ukmergės g.  Vilnius   \n",
       "2           9  3 kambarių butas    Pašilaičiuose   Perkūnkiemio g.  Vilnius   \n",
       "3          11  2 kambarių butas     Santariškėse       Bajorų kel.  Vilnius   \n",
       "4          11  2 kambarių butas       Visoriuose       Bajorų kel.  Vilnius   \n",
       "\n",
       "                     Address   Latitude  Longitude  \n",
       "0  Vilnius,  A. Vivulskio g.  54.679536  25.269072  \n",
       "1      Vilnius,  Ukmergės g.  54.737012  25.230722  \n",
       "2  Vilnius,  Perkūnkiemio g.  54.736542  25.217380  \n",
       "3      Vilnius,  Bajorų kel.  54.755798  25.260409  \n",
       "4      Vilnius,  Bajorų kel.  54.755798  25.260409  "
      ]
     },
     "execution_count": 14,
     "metadata": {},
     "output_type": "execute_result"
    }
   ],
   "source": [
    "#Add all the columns together\n",
    "df_columns = [\n",
    "    df_prices,\n",
    "    df_sqm,\n",
    "    df_rooms,\n",
    "    df_location,\n",
    "    df_year,\n",
    "    df_floor,\n",
    "    df_link\n",
    "]\n",
    "\n",
    "df_re = pd.concat(df_columns, axis=1, join='inner')\n",
    "\n",
    "#Clean rooms column\n",
    "df_re['Rooms'] = df_re['Rooms'].str.replace(\"kamb.\", \"\").astype(int)\n",
    "\n",
    "#Clean price column\n",
    "df_re['Price'] = df_re['Price'].str.replace(\"€\", \"\").str.replace(\" \", \"\").astype(int)\n",
    "\n",
    "#Clean year column\n",
    "df_re['Year'] = df_re['Year'].str.replace(\" m.\", \"\").str.replace(\"m.\", \"\")\n",
    "\n",
    "#Clean floor column\n",
    "df_re['Floor'] = df_re['Floor'].str.replace(\" a.\", \"\")\n",
    "df_re[['ApartmentFloor', 'TotalFloors']] = df_re['Floor'].str.split('/', expand=True)\n",
    "df_re['TotalFloors'] = df_re['TotalFloors'].replace('', np.nan, regex=True)\n",
    "df_re = df_re.drop('Floor', 1)\n",
    "\n",
    "#Clean area column\n",
    "df_re['Area'] = df_re['Area'].str.replace(\" m²\", \"\").astype(str).astype(float)\n",
    "\n",
    "#Split location column to city, neighborhood, street\n",
    "df_re[['Type', 'Location2']] = df_re['Location'].str.split('Vilniuje,', expand = True)\n",
    "df_re = df_re.drop('Location', 1)\n",
    "df_re[['Neighborhood', 'Street']] = df_re['Location2'].str.split(',', expand = True)\n",
    "df_re = df_re.drop('Location2', 1)\n",
    "df_re['City'] = 'Vilnius'\n",
    "df_re['Address'] = df_re['City'] + ', ' + df_re['Street']\n",
    "\n",
    "#Add date column\n",
    "df_re.insert(0, 'Date', dt.datetime.now().replace(microsecond=0))\n",
    "\n",
    "#Add price per sq. meter column\n",
    "df_re.insert(3, 'PriceSqm', df_re['Price'] / df_re['Area'])\n",
    "\n",
    "#Add additional latitude and longitude columns for geospatial visualisation\n",
    "geolocator = Nominatim(user_agent=\"Map\")\n",
    "latitude=[]\n",
    "longitude=[]\n",
    "for address in df_re[\"Address\"]:\n",
    "    location = geolocator.geocode(address)\n",
    "    latitude.append(location.latitude)\n",
    "    longitude.append(location.longitude)\n",
    "df_re['Latitude']=latitude\n",
    "df_re['Longitude']=longitude\n",
    "\n",
    "df_re.replace('', np.nan)\n",
    "df_re.head()"
   ]
  },
  {
   "cell_type": "markdown",
   "metadata": {},
   "source": [
    "## Loading data to SQL Server"
   ]
  },
  {
   "cell_type": "code",
   "execution_count": null,
   "metadata": {},
   "outputs": [],
   "source": [
    "DRIVER_NAME = 'SQL Server'\n",
    "SERVER_NAME = '' #Enter server\n",
    "DATABASE_NAME = '' #Enter database\n",
    "\n",
    "#uid=<username>;\n",
    "#pwd=<password>\n",
    "\n",
    "\n",
    "connection = f\"\"\"\n",
    "            DRIVER={{{DRIVER_NAME}}};\n",
    "            SERVER={SERVER_NAME};\n",
    "            DATABASE={DATABASE_NAME};\n",
    "            Trust_connection=yes;  \n",
    "\"\"\"\n",
    "\n",
    "\n",
    "cnxn = pyodbc.connect(connection)\n",
    "cursor = cnxn.cursor()\n",
    "\n",
    "# Insert Dataframe into SQL Server:\n",
    "for index, row in df_re.iterrows():\n",
    "     cursor.execute(\"INSERT INTO RealEstatePrices (Date, Price, Area, PriceSqm, Rooms, Year, Link, ApartmentFloor, TotalFloors, Type, City, Neighborhood, Street) values(?,?,?,?,?,?,?,?,?,?,?,?,?)\", row.Date, row.Price, row.Area, row.PriceSqm, row.Rooms, row.Year, row.Link, row.ApartmentFloor, row.TotalFloors, row.Type, row.City, row.Neighborhood, row.Street)\n",
    "cnxn.commit()\n",
    "cursor.close()"
   ]
  },
  {
   "cell_type": "markdown",
   "metadata": {},
   "source": [
    "## Visualising gathered data"
   ]
  },
  {
   "cell_type": "code",
   "execution_count": 21,
   "metadata": {},
   "outputs": [
    {
     "data": {
      "application/vnd.plotly.v1+json": {
       "config": {
        "plotlyServerURL": "https://plot.ly"
       },
       "data": [
        {
         "hovertemplate": "PriceSqm=%{marker.color}<br>Latitude=%{lat}<br>Longitude=%{lon}<extra></extra>",
         "lat": [
          54.6795359,
          54.7370121,
          54.7365415,
          54.7557984,
          54.7557984,
          54.7557984,
          54.7073304,
          54.6964423,
          54.6964423,
          54.6702969,
          54.6702969,
          54.7514993,
          54.6671508,
          54.699156,
          54.6867025,
          54.6997165,
          54.7183112,
          54.7094525,
          54.7132376,
          54.7269302,
          54.7127439,
          54.7093766,
          54.7806553,
          54.7262834,
          54.719447,
          54.6855778,
          54.6734485,
          54.6887027,
          54.6865521,
          54.6938166,
          54.6726096,
          54.6847512,
          54.6847512,
          54.68114,
          54.6878371,
          54.6993141,
          54.7082021,
          54.692191,
          54.692191,
          46.3144754,
          54.7007243,
          54.6606567,
          54.7169482,
          54.7169482,
          54.6983779,
          54.6777854,
          54.6777854,
          54.7093766,
          46.3144754,
          54.6768514,
          54.669502,
          54.7269302,
          54.7269302,
          54.7269302,
          54.7365415,
          54.7269302,
          54.7365415,
          54.7365415,
          54.7269302,
          54.7106655,
          54.7269302,
          54.7269302,
          54.7269302,
          54.7365962,
          54.7365962,
          54.7000932,
          54.7079484,
          54.6797059,
          46.3144754,
          54.6830044,
          54.6986855,
          54.6865521,
          54.7513833,
          46.3144754,
          54.6775215,
          54.4320912,
          54.727867,
          54.6763157,
          46.3144754,
          46.3144754,
          54.7271632,
          54.70352,
          54.6795359,
          54.7059787,
          54.7023529,
          54.6765483,
          54.6242689,
          54.6695189,
          54.6885859,
          54.6768514,
          54.692191,
          54.6893537,
          54.6865521,
          54.672749,
          54.6820538,
          54.6820881,
          54.6865521,
          54.6824266,
          54.7257187,
          54.6983779,
          46.3144754,
          54.7256864,
          54.7159938,
          54.6750351,
          54.7557984,
          54.7181715,
          54.7394592,
          54.6671508,
          54.7116432,
          54.7394592,
          54.7019763,
          54.7216783,
          54.6808895,
          46.3144754,
          54.7043702,
          54.7453292,
          54.695898,
          54.6738976,
          54.7257187,
          46.3144754,
          54.6718654,
          54.7043114,
          54.7262834,
          54.6832667,
          54.6832667,
          54.6940532,
          54.7009206,
          46.3144754,
          54.6933987,
          54.6808895,
          54.71229,
          54.6776332,
          54.6820881,
          54.6820881,
          54.6936548,
          54.6920337,
          46.3144754,
          54.7023529,
          54.7023529,
          54.7269302,
          54.7023529,
          54.7023529,
          54.7023529,
          54.7023529,
          54.7023529,
          54.7023529,
          54.7023529,
          54.6983407,
          54.7269302,
          54.6865521,
          54.7050142,
          54.6878371,
          54.6943712,
          54.8035435,
          54.8035435,
          54.6713729,
          54.6775689,
          54.6830044,
          54.6713729,
          54.6820538,
          54.710697,
          54.7394592,
          54.7394592,
          54.7269302,
          54.7269302,
          54.7269302,
          54.7269302,
          54.708805,
          46.3144754,
          54.672749,
          54.6394598,
          54.70352,
          54.70352,
          54.6941104,
          54.7116432,
          54.6795359,
          54.7035556,
          54.7141326,
          54.7271632,
          54.681859,
          54.6587193,
          54.699156,
          54.7316863,
          54.6524302,
          54.6524302,
          54.6524302,
          54.7068103,
          54.6524302,
          54.6947161,
          54.672749,
          54.6838596,
          54.708422,
          54.7394592,
          54.7394592,
          54.7503831,
          54.727867,
          54.727867,
          54.727867,
          54.727867,
          54.7806553,
          54.7132376,
          54.6784395,
          54.6702969,
          54.6702969,
          54.7082021,
          54.7367637,
          54.6523604,
          54.6523604,
          54.6523604,
          54.693305,
          54.6938166,
          54.6724269,
          54.6250613,
          54.7093766,
          46.3144754,
          54.692191,
          46.3144754,
          54.6865521,
          54.7057143,
          54.7057143,
          54.6838889,
          54.7057143,
          54.708149,
          54.7256864,
          54.6766768,
          54.6795359,
          54.6787801,
          46.3144754,
          46.3144754,
          54.7269302,
          54.7309,
          54.6947161,
          54.6964423,
          54.7257187,
          54.7257187,
          54.7257187,
          54.6855778,
          54.6819701,
          54.7183112,
          54.6832667,
          54.6898717,
          54.7005623,
          54.7005623,
          54.6987711,
          54.7269302,
          54.6624199,
          54.7182285,
          54.6947161,
          54.727867,
          54.681859,
          46.3144754,
          54.7169482,
          54.7169482,
          54.669502,
          46.3144754,
          54.6740589,
          54.6606567,
          54.6663845,
          54.6415736,
          54.689538,
          54.6674552,
          54.7007243,
          54.7007243,
          54.7007243,
          54.7007243,
          54.6587193,
          54.6925127,
          54.6905922,
          54.6734485,
          54.7458848
         ],
         "legendgroup": "",
         "lon": [
          25.2690722,
          25.2307219,
          25.2173801,
          25.2604085,
          25.2604085,
          25.2604085,
          25.1762248,
          25.2637799,
          25.2637799,
          25.256417,
          25.256417,
          25.1910768,
          25.1783396,
          25.2442418,
          25.2660111,
          25.2538594,
          25.3511264,
          25.164768,
          25.1834507,
          25.2803325,
          25.179821,
          25.2133157,
          25.2937137,
          25.2323395,
          25.2849892,
          25.4247999,
          25.2656064,
          25.2083171,
          25.2829139,
          25.2960439,
          25.3100979,
          25.2895328,
          25.2895328,
          25.2813479,
          25.2750368,
          25.2267002,
          25.2921977,
          25.2891937,
          25.2891937,
          11.0480288,
          25.2118483,
          25.2792808,
          25.2220784,
          25.2220784,
          25.2738574,
          25.2812061,
          25.2812061,
          25.2133157,
          11.0480288,
          25.2987055,
          25.2896443,
          25.2803325,
          25.2803325,
          25.2803325,
          25.2173801,
          25.2803325,
          25.2173801,
          25.2173801,
          25.2803325,
          25.2168528,
          25.2803325,
          25.2803325,
          25.2803325,
          25.2650009,
          25.2650009,
          25.3139608,
          25.2932984,
          25.2646873,
          11.0480288,
          25.2677518,
          25.2586327,
          25.2829139,
          25.2798567,
          11.0480288,
          25.3059673,
          25.3074132,
          25.31555,
          25.246673,
          11.0480288,
          11.0480288,
          25.2542283,
          25.2571079,
          25.2690722,
          25.2155991,
          25.2141337,
          25.2597656,
          25.1109605,
          25.2785114,
          25.2686655,
          25.2987055,
          25.2891937,
          25.2737418,
          25.2829139,
          25.2768724,
          25.3119914,
          25.2741529,
          25.2829139,
          25.2486011,
          25.2876241,
          25.2738574,
          11.0480288,
          25.2338636,
          25.2321758,
          25.2752865,
          25.2604085,
          25.2690575,
          25.2136475,
          25.1783396,
          25.1769116,
          25.2136475,
          25.3172893,
          25.3494271,
          25.285329,
          11.0480288,
          25.3981359,
          25.2911,
          25.2596221,
          25.2671517,
          25.2876241,
          11.0480288,
          25.2907764,
          25.2662228,
          25.2323395,
          25.2649052,
          25.2649052,
          25.2409896,
          25.2494676,
          11.0480288,
          25.2857398,
          25.285329,
          25.251059,
          25.216127,
          25.2741529,
          25.2741529,
          25.210682,
          25.2628317,
          11.0480288,
          25.2141337,
          25.2141337,
          25.2803325,
          25.2141337,
          25.2141337,
          25.2141337,
          25.2141337,
          25.2141337,
          25.2141337,
          25.2141337,
          25.266425,
          25.2803325,
          25.2829139,
          25.3076301,
          25.2750368,
          25.2947718,
          25.3769106,
          25.3769106,
          25.2966661,
          25.3166562,
          25.2677518,
          25.2966661,
          25.3119914,
          25.3941733,
          25.2136475,
          25.2136475,
          25.2803325,
          25.2803325,
          25.2803325,
          25.2803325,
          25.2910265,
          11.0480288,
          25.2768724,
          25.200834,
          25.2571079,
          25.2571079,
          25.2211567,
          25.1769116,
          25.2690722,
          25.1221943,
          25.1844556,
          25.2542283,
          25.2678627,
          25.2320881,
          25.2442418,
          25.331217,
          25.3502645,
          25.3502645,
          25.3502645,
          25.3117445,
          25.3502645,
          25.281815,
          25.2768724,
          25.2737206,
          25.3301722,
          25.2136475,
          25.2136475,
          25.2731457,
          25.31555,
          25.31555,
          25.31555,
          25.31555,
          25.2937137,
          25.1834507,
          25.2735431,
          25.256417,
          25.256417,
          25.2921977,
          25.3461419,
          25.3600985,
          25.3600985,
          25.3600985,
          25.4022261,
          25.2960439,
          25.2799504,
          25.1856659,
          25.2133157,
          11.0480288,
          25.2891937,
          11.0480288,
          25.2829139,
          25.3042888,
          25.3042888,
          25.2875322,
          25.3042888,
          25.2797936,
          25.2338636,
          25.2835375,
          25.2690722,
          25.2705382,
          11.0480288,
          11.0480288,
          25.2803325,
          25.2117095,
          25.281815,
          25.2637799,
          25.2876241,
          25.2876241,
          25.2876241,
          25.4247999,
          25.2146053,
          25.3511264,
          25.2649052,
          25.2848224,
          25.2531015,
          25.2531015,
          25.2451431,
          25.2803325,
          25.2670835,
          25.1558724,
          25.281815,
          25.31555,
          25.2678627,
          11.0480288,
          25.2220784,
          25.2220784,
          25.2896443,
          11.0480288,
          25.2855354,
          25.2792808,
          25.2827545,
          24.9312329,
          25.2774708,
          25.2507205,
          25.2118483,
          25.2118483,
          25.2118483,
          25.2118483,
          25.2320881,
          25.2850327,
          25.2639455,
          25.2656064,
          25.2612994
         ],
         "marker": {
          "color": [
           4194.857916102841,
           2334.770114942529,
           2500,
           2517.54653646628,
           2517.54653646628,
           2517.54653646628,
           2877.8718258766626,
           3871.923427529626,
           3871.923427529626,
           2984.4807003581377,
           2984.4807003581377,
           2772.1518987341774,
           2370.985126104764,
           3839.8119122257053,
           3413.068844807468,
           4231.884057971014,
           3762.8205128205127,
           3288.4615384615386,
           3089.8431310410397,
           2740.3846153846152,
           3209.644590574605,
           2191.8588101337887,
           3297.6539589442814,
           1497.5233268056675,
           3389.55562763542,
           1849.3150684931506,
           3064.629434492448,
           2272.7272727272725,
           4574.286411319834,
           7500,
           1250,
           3772.1557339796996,
           3772.1557339796996,
           1711.2945439903363,
           2766.947553766822,
           1989.825581395349,
           2821.6996852434736,
           5755.555555555556,
           5755.555555555556,
           6158.031408433288,
           2649.6902959394356,
           2144.578313253012,
           2283.4308548594263,
           2850.7256392536283,
           3836.6523821527603,
           3836.38343097102,
           3836.38343097102,
           2416.6666666666665,
           2190,
           40826.086956521736,
           271.52317880794703,
           3205.128205128205,
           1803.27868852459,
           3720,
           2015.5038759689921,
           3720,
           2353.2916294310394,
           1790.656031255087,
           3514.285714285714,
           1924.2424242424242,
           3843.75,
           3720,
           2760.8695652173915,
           2025.4263439987008,
           2025.4263439987008,
           4825.323296660876,
           3444.947803821154,
           1956.063797773097,
           2197.462086041473,
           4074.074074074074,
           4400.547623704283,
           4568.579568579568,
           2886.0780984719863,
           2070.1754385964914,
           4700,
           672.4137931034483,
           3191.1347517730496,
           2577.0051845074718,
           2360.9779482262707,
           2360.9779482262707,
           1604.9382716049383,
           3634.049773755656,
           4426.229508196721,
           1703.109375,
           2663.0115527707067,
           4431.818181818182,
           1934.0159271899886,
           3696.5914546327413,
           3728.779304769604,
           4579.889807162534,
           2187.5,
           4113.207547169812,
           4200,
           5205.047318611987,
           6634.172759274303,
           6887.755102040816,
           7173.913043478261,
           2991.4529914529912,
           3583.930655109185,
           3295.4545454545455,
           2080.5555555555557,
           2290.243902439024,
           2349.093071662206,
           5888.580124387985,
           2920.418593331711,
           4375,
           2338.7096774193546,
           2400,
           2406.5934065934066,
           2267.5432711659732,
           3040,
           2461.88710341986,
           4568.9655172413795,
           2747.3997028231797,
           1635.4984603541186,
           4413.619167717528,
           4073.199527744982,
           2650.160616768391,
           3214.285714285714,
           2280.130293159609,
           3172.4137931034484,
           2890.625,
           1627.6300119094878,
           3309.4050371091375,
           3302.3116181326927,
           3661.455788959453,
           3079.976477506616,
           3043.81049414162,
           5245.99461222175,
           5000,
           1802.3145513185355,
           1782.848151062156,
           3729.7677691766357,
           3729.7677691766357,
           1974.2489270386266,
           5815.253858197271,
           2777.777777777778,
           2651.515151515152,
           2703.5163776493255,
           1862.6703920074508,
           2679.7737678427147,
           2661.368015414258,
           2673.0406679235116,
           2701.499183612884,
           2706.706167519526,
           2673.4104046242774,
           2656.0604017796954,
           3500,
           2528.631705846896,
           3687.888198757764,
           2000,
           2767.2955974842766,
           4444.444444444444,
           1801.2048192771085,
           1801.2048192771085,
           3113.2075471698113,
           5806.451612903225,
           4400.547623704283,
           3113.2075471698113,
           2653.061224489796,
           2959.6977329974807,
           2983.002465291294,
           3000,
           3720,
           3448.2758620689656,
           3333.3333333333335,
           3175,
           2934.590453741898,
           1826.722338204593,
           4687.5,
           1486.6637516397027,
           3230.769230769231,
           3230.769230769231,
           3414.285714285714,
           3131.7707307465034,
           4764.276228419654,
           1759.2592592592594,
           4492.257832193014,
           2192.72076372315,
           2391.304347826087,
           3750,
           4687.5,
           4009.527590313616,
           2402.691013935608,
           2716.336825766395,
           2425.6485973423332,
           2884.6153846153848,
           2683.423913043478,
           2987.9385964912285,
           3692.104829404978,
           5750,
           2619.0476190476193,
           2200,
           2652.1739130434785,
           1024.5901639344263,
           3980,
           3890.489913544668,
           3880,
           3900,
           3317.6100628930817,
           2959.413754227734,
           3879.310344827586,
           2088.120649651972,
           2030.860927152318,
           2830.188679245283,
           2584.9056603773583,
           1793.1513188338733,
           1793.1513188338733,
           1782.2212562486416,
           1696.6666666666667,
           3584.2293906810037,
           3500,
           1327.5212997820488,
           1654.3574593796159,
           5469.3877551020405,
           5469.3877551020405,
           1904.2553191489362,
           4574.286411319834,
           2704.5454545454545,
           2478.8958863727726,
           4352.941176470588,
           2478.8958863727726,
           2705.8823529411766,
           1825.3968253968253,
           3816.7938931297713,
           3585.0324893569345,
           3962.264150943396,
           3215.401673218426,
           2172.1311475409834,
           2134.0162185232607,
           2896.570569749966,
           2697.4374344372845,
           2237.5,
           2774.0264545370455,
           2774.0264545370455,
           2774.0264545370455,
           1525.7259296994398,
           2164.179104477612,
           3245.4887706088534,
           3306.2294200658557,
           4503.690314806447,
           2986.7463132350194,
           2986.7463132350194,
           4932.098765432099,
           3597.3229224762968,
           2428.5714285714284,
           1777.7777777777778,
           3150.6849315068494,
           1971.8309859154929,
           3428.5714285714284,
           5972.222222222223,
           2590.6735751295337,
           2989.0744176458466,
           1986.3013698630136,
           2121.212121212121,
           7095.013644257007,
           2753.474009264025,
           2773.900907187718,
           5490,
           3992.5373134328356,
           3990.649524127567,
           2889.24134284959,
           2789.9906454630495,
           3099.601593625498,
           2700,
           1262.3762376237623,
           4627.44357351969,
           5000,
           2423.076923076923,
           1680.8424463345486
          ],
          "coloraxis": "coloraxis",
          "size": [
           4194.857916102841,
           2334.770114942529,
           2500,
           2517.54653646628,
           2517.54653646628,
           2517.54653646628,
           2877.8718258766626,
           3871.923427529626,
           3871.923427529626,
           2984.4807003581377,
           2984.4807003581377,
           2772.1518987341774,
           2370.985126104764,
           3839.8119122257053,
           3413.068844807468,
           4231.884057971014,
           3762.8205128205127,
           3288.4615384615386,
           3089.8431310410397,
           2740.3846153846152,
           3209.644590574605,
           2191.8588101337887,
           3297.6539589442814,
           1497.5233268056675,
           3389.55562763542,
           1849.3150684931506,
           3064.629434492448,
           2272.7272727272725,
           4574.286411319834,
           7500,
           1250,
           3772.1557339796996,
           3772.1557339796996,
           1711.2945439903363,
           2766.947553766822,
           1989.825581395349,
           2821.6996852434736,
           5755.555555555556,
           5755.555555555556,
           6158.031408433288,
           2649.6902959394356,
           2144.578313253012,
           2283.4308548594263,
           2850.7256392536283,
           3836.6523821527603,
           3836.38343097102,
           3836.38343097102,
           2416.6666666666665,
           2190,
           40826.086956521736,
           271.52317880794703,
           3205.128205128205,
           1803.27868852459,
           3720,
           2015.5038759689921,
           3720,
           2353.2916294310394,
           1790.656031255087,
           3514.285714285714,
           1924.2424242424242,
           3843.75,
           3720,
           2760.8695652173915,
           2025.4263439987008,
           2025.4263439987008,
           4825.323296660876,
           3444.947803821154,
           1956.063797773097,
           2197.462086041473,
           4074.074074074074,
           4400.547623704283,
           4568.579568579568,
           2886.0780984719863,
           2070.1754385964914,
           4700,
           672.4137931034483,
           3191.1347517730496,
           2577.0051845074718,
           2360.9779482262707,
           2360.9779482262707,
           1604.9382716049383,
           3634.049773755656,
           4426.229508196721,
           1703.109375,
           2663.0115527707067,
           4431.818181818182,
           1934.0159271899886,
           3696.5914546327413,
           3728.779304769604,
           4579.889807162534,
           2187.5,
           4113.207547169812,
           4200,
           5205.047318611987,
           6634.172759274303,
           6887.755102040816,
           7173.913043478261,
           2991.4529914529912,
           3583.930655109185,
           3295.4545454545455,
           2080.5555555555557,
           2290.243902439024,
           2349.093071662206,
           5888.580124387985,
           2920.418593331711,
           4375,
           2338.7096774193546,
           2400,
           2406.5934065934066,
           2267.5432711659732,
           3040,
           2461.88710341986,
           4568.9655172413795,
           2747.3997028231797,
           1635.4984603541186,
           4413.619167717528,
           4073.199527744982,
           2650.160616768391,
           3214.285714285714,
           2280.130293159609,
           3172.4137931034484,
           2890.625,
           1627.6300119094878,
           3309.4050371091375,
           3302.3116181326927,
           3661.455788959453,
           3079.976477506616,
           3043.81049414162,
           5245.99461222175,
           5000,
           1802.3145513185355,
           1782.848151062156,
           3729.7677691766357,
           3729.7677691766357,
           1974.2489270386266,
           5815.253858197271,
           2777.777777777778,
           2651.515151515152,
           2703.5163776493255,
           1862.6703920074508,
           2679.7737678427147,
           2661.368015414258,
           2673.0406679235116,
           2701.499183612884,
           2706.706167519526,
           2673.4104046242774,
           2656.0604017796954,
           3500,
           2528.631705846896,
           3687.888198757764,
           2000,
           2767.2955974842766,
           4444.444444444444,
           1801.2048192771085,
           1801.2048192771085,
           3113.2075471698113,
           5806.451612903225,
           4400.547623704283,
           3113.2075471698113,
           2653.061224489796,
           2959.6977329974807,
           2983.002465291294,
           3000,
           3720,
           3448.2758620689656,
           3333.3333333333335,
           3175,
           2934.590453741898,
           1826.722338204593,
           4687.5,
           1486.6637516397027,
           3230.769230769231,
           3230.769230769231,
           3414.285714285714,
           3131.7707307465034,
           4764.276228419654,
           1759.2592592592594,
           4492.257832193014,
           2192.72076372315,
           2391.304347826087,
           3750,
           4687.5,
           4009.527590313616,
           2402.691013935608,
           2716.336825766395,
           2425.6485973423332,
           2884.6153846153848,
           2683.423913043478,
           2987.9385964912285,
           3692.104829404978,
           5750,
           2619.0476190476193,
           2200,
           2652.1739130434785,
           1024.5901639344263,
           3980,
           3890.489913544668,
           3880,
           3900,
           3317.6100628930817,
           2959.413754227734,
           3879.310344827586,
           2088.120649651972,
           2030.860927152318,
           2830.188679245283,
           2584.9056603773583,
           1793.1513188338733,
           1793.1513188338733,
           1782.2212562486416,
           1696.6666666666667,
           3584.2293906810037,
           3500,
           1327.5212997820488,
           1654.3574593796159,
           5469.3877551020405,
           5469.3877551020405,
           1904.2553191489362,
           4574.286411319834,
           2704.5454545454545,
           2478.8958863727726,
           4352.941176470588,
           2478.8958863727726,
           2705.8823529411766,
           1825.3968253968253,
           3816.7938931297713,
           3585.0324893569345,
           3962.264150943396,
           3215.401673218426,
           2172.1311475409834,
           2134.0162185232607,
           2896.570569749966,
           2697.4374344372845,
           2237.5,
           2774.0264545370455,
           2774.0264545370455,
           2774.0264545370455,
           1525.7259296994398,
           2164.179104477612,
           3245.4887706088534,
           3306.2294200658557,
           4503.690314806447,
           2986.7463132350194,
           2986.7463132350194,
           4932.098765432099,
           3597.3229224762968,
           2428.5714285714284,
           1777.7777777777778,
           3150.6849315068494,
           1971.8309859154929,
           3428.5714285714284,
           5972.222222222223,
           2590.6735751295337,
           2989.0744176458466,
           1986.3013698630136,
           2121.212121212121,
           7095.013644257007,
           2753.474009264025,
           2773.900907187718,
           5490,
           3992.5373134328356,
           3990.649524127567,
           2889.24134284959,
           2789.9906454630495,
           3099.601593625498,
           2700,
           1262.3762376237623,
           4627.44357351969,
           5000,
           2423.076923076923,
           1680.8424463345486
          ],
          "sizemode": "area",
          "sizeref": 16.330434782608695
         },
         "mode": "markers",
         "name": "",
         "showlegend": false,
         "subplot": "mapbox",
         "type": "scattermapbox"
        }
       ],
       "layout": {
        "coloraxis": {
         "colorbar": {
          "title": {
           "text": "PriceSqm"
          }
         },
         "colorscale": [
          [
           0,
           "#000000"
          ],
          [
           0.0625,
           "#001f4d"
          ],
          [
           0.125,
           "#003786"
          ],
          [
           0.1875,
           "#0e58a8"
          ],
          [
           0.25,
           "#217eb8"
          ],
          [
           0.3125,
           "#30a4ca"
          ],
          [
           0.375,
           "#54c8df"
          ],
          [
           0.4375,
           "#9be4ef"
          ],
          [
           0.5,
           "#e1e9d1"
          ],
          [
           0.5625,
           "#f3d573"
          ],
          [
           0.625,
           "#e7b000"
          ],
          [
           0.6875,
           "#da8200"
          ],
          [
           0.75,
           "#c65400"
          ],
          [
           0.8125,
           "#ac2301"
          ],
          [
           0.875,
           "#820000"
          ],
          [
           0.9375,
           "#4c0000"
          ],
          [
           1,
           "#000000"
          ]
         ]
        },
        "legend": {
         "itemsizing": "constant",
         "tracegroupgap": 0
        },
        "mapbox": {
         "accesstoken": "pk.eyJ1IjoiZ2VkaW1pbmFzZ3J1b2QiLCJhIjoiY2wxcmpsOGk4MXFoZTNpcXIzeGxtYTJ2ayJ9.N2QdFZQgp_DOZZJXh2Ectw",
         "center": {
          "lat": 54.14089846148152,
          "lon": 24.317878545185184
         },
         "domain": {
          "x": [
           0,
           1
          ],
          "y": [
           0,
           1
          ]
         },
         "zoom": 12
        },
        "margin": {
         "t": 60
        },
        "template": {
         "data": {
          "bar": [
           {
            "error_x": {
             "color": "#2a3f5f"
            },
            "error_y": {
             "color": "#2a3f5f"
            },
            "marker": {
             "line": {
              "color": "#E5ECF6",
              "width": 0.5
             },
             "pattern": {
              "fillmode": "overlay",
              "size": 10,
              "solidity": 0.2
             }
            },
            "type": "bar"
           }
          ],
          "barpolar": [
           {
            "marker": {
             "line": {
              "color": "#E5ECF6",
              "width": 0.5
             },
             "pattern": {
              "fillmode": "overlay",
              "size": 10,
              "solidity": 0.2
             }
            },
            "type": "barpolar"
           }
          ],
          "carpet": [
           {
            "aaxis": {
             "endlinecolor": "#2a3f5f",
             "gridcolor": "white",
             "linecolor": "white",
             "minorgridcolor": "white",
             "startlinecolor": "#2a3f5f"
            },
            "baxis": {
             "endlinecolor": "#2a3f5f",
             "gridcolor": "white",
             "linecolor": "white",
             "minorgridcolor": "white",
             "startlinecolor": "#2a3f5f"
            },
            "type": "carpet"
           }
          ],
          "choropleth": [
           {
            "colorbar": {
             "outlinewidth": 0,
             "ticks": ""
            },
            "type": "choropleth"
           }
          ],
          "contour": [
           {
            "colorbar": {
             "outlinewidth": 0,
             "ticks": ""
            },
            "colorscale": [
             [
              0,
              "#0d0887"
             ],
             [
              0.1111111111111111,
              "#46039f"
             ],
             [
              0.2222222222222222,
              "#7201a8"
             ],
             [
              0.3333333333333333,
              "#9c179e"
             ],
             [
              0.4444444444444444,
              "#bd3786"
             ],
             [
              0.5555555555555556,
              "#d8576b"
             ],
             [
              0.6666666666666666,
              "#ed7953"
             ],
             [
              0.7777777777777778,
              "#fb9f3a"
             ],
             [
              0.8888888888888888,
              "#fdca26"
             ],
             [
              1,
              "#f0f921"
             ]
            ],
            "type": "contour"
           }
          ],
          "contourcarpet": [
           {
            "colorbar": {
             "outlinewidth": 0,
             "ticks": ""
            },
            "type": "contourcarpet"
           }
          ],
          "heatmap": [
           {
            "colorbar": {
             "outlinewidth": 0,
             "ticks": ""
            },
            "colorscale": [
             [
              0,
              "#0d0887"
             ],
             [
              0.1111111111111111,
              "#46039f"
             ],
             [
              0.2222222222222222,
              "#7201a8"
             ],
             [
              0.3333333333333333,
              "#9c179e"
             ],
             [
              0.4444444444444444,
              "#bd3786"
             ],
             [
              0.5555555555555556,
              "#d8576b"
             ],
             [
              0.6666666666666666,
              "#ed7953"
             ],
             [
              0.7777777777777778,
              "#fb9f3a"
             ],
             [
              0.8888888888888888,
              "#fdca26"
             ],
             [
              1,
              "#f0f921"
             ]
            ],
            "type": "heatmap"
           }
          ],
          "heatmapgl": [
           {
            "colorbar": {
             "outlinewidth": 0,
             "ticks": ""
            },
            "colorscale": [
             [
              0,
              "#0d0887"
             ],
             [
              0.1111111111111111,
              "#46039f"
             ],
             [
              0.2222222222222222,
              "#7201a8"
             ],
             [
              0.3333333333333333,
              "#9c179e"
             ],
             [
              0.4444444444444444,
              "#bd3786"
             ],
             [
              0.5555555555555556,
              "#d8576b"
             ],
             [
              0.6666666666666666,
              "#ed7953"
             ],
             [
              0.7777777777777778,
              "#fb9f3a"
             ],
             [
              0.8888888888888888,
              "#fdca26"
             ],
             [
              1,
              "#f0f921"
             ]
            ],
            "type": "heatmapgl"
           }
          ],
          "histogram": [
           {
            "marker": {
             "pattern": {
              "fillmode": "overlay",
              "size": 10,
              "solidity": 0.2
             }
            },
            "type": "histogram"
           }
          ],
          "histogram2d": [
           {
            "colorbar": {
             "outlinewidth": 0,
             "ticks": ""
            },
            "colorscale": [
             [
              0,
              "#0d0887"
             ],
             [
              0.1111111111111111,
              "#46039f"
             ],
             [
              0.2222222222222222,
              "#7201a8"
             ],
             [
              0.3333333333333333,
              "#9c179e"
             ],
             [
              0.4444444444444444,
              "#bd3786"
             ],
             [
              0.5555555555555556,
              "#d8576b"
             ],
             [
              0.6666666666666666,
              "#ed7953"
             ],
             [
              0.7777777777777778,
              "#fb9f3a"
             ],
             [
              0.8888888888888888,
              "#fdca26"
             ],
             [
              1,
              "#f0f921"
             ]
            ],
            "type": "histogram2d"
           }
          ],
          "histogram2dcontour": [
           {
            "colorbar": {
             "outlinewidth": 0,
             "ticks": ""
            },
            "colorscale": [
             [
              0,
              "#0d0887"
             ],
             [
              0.1111111111111111,
              "#46039f"
             ],
             [
              0.2222222222222222,
              "#7201a8"
             ],
             [
              0.3333333333333333,
              "#9c179e"
             ],
             [
              0.4444444444444444,
              "#bd3786"
             ],
             [
              0.5555555555555556,
              "#d8576b"
             ],
             [
              0.6666666666666666,
              "#ed7953"
             ],
             [
              0.7777777777777778,
              "#fb9f3a"
             ],
             [
              0.8888888888888888,
              "#fdca26"
             ],
             [
              1,
              "#f0f921"
             ]
            ],
            "type": "histogram2dcontour"
           }
          ],
          "mesh3d": [
           {
            "colorbar": {
             "outlinewidth": 0,
             "ticks": ""
            },
            "type": "mesh3d"
           }
          ],
          "parcoords": [
           {
            "line": {
             "colorbar": {
              "outlinewidth": 0,
              "ticks": ""
             }
            },
            "type": "parcoords"
           }
          ],
          "pie": [
           {
            "automargin": true,
            "type": "pie"
           }
          ],
          "scatter": [
           {
            "fillpattern": {
             "fillmode": "overlay",
             "size": 10,
             "solidity": 0.2
            },
            "type": "scatter"
           }
          ],
          "scatter3d": [
           {
            "line": {
             "colorbar": {
              "outlinewidth": 0,
              "ticks": ""
             }
            },
            "marker": {
             "colorbar": {
              "outlinewidth": 0,
              "ticks": ""
             }
            },
            "type": "scatter3d"
           }
          ],
          "scattercarpet": [
           {
            "marker": {
             "colorbar": {
              "outlinewidth": 0,
              "ticks": ""
             }
            },
            "type": "scattercarpet"
           }
          ],
          "scattergeo": [
           {
            "marker": {
             "colorbar": {
              "outlinewidth": 0,
              "ticks": ""
             }
            },
            "type": "scattergeo"
           }
          ],
          "scattergl": [
           {
            "marker": {
             "colorbar": {
              "outlinewidth": 0,
              "ticks": ""
             }
            },
            "type": "scattergl"
           }
          ],
          "scattermapbox": [
           {
            "marker": {
             "colorbar": {
              "outlinewidth": 0,
              "ticks": ""
             }
            },
            "type": "scattermapbox"
           }
          ],
          "scatterpolar": [
           {
            "marker": {
             "colorbar": {
              "outlinewidth": 0,
              "ticks": ""
             }
            },
            "type": "scatterpolar"
           }
          ],
          "scatterpolargl": [
           {
            "marker": {
             "colorbar": {
              "outlinewidth": 0,
              "ticks": ""
             }
            },
            "type": "scatterpolargl"
           }
          ],
          "scatterternary": [
           {
            "marker": {
             "colorbar": {
              "outlinewidth": 0,
              "ticks": ""
             }
            },
            "type": "scatterternary"
           }
          ],
          "surface": [
           {
            "colorbar": {
             "outlinewidth": 0,
             "ticks": ""
            },
            "colorscale": [
             [
              0,
              "#0d0887"
             ],
             [
              0.1111111111111111,
              "#46039f"
             ],
             [
              0.2222222222222222,
              "#7201a8"
             ],
             [
              0.3333333333333333,
              "#9c179e"
             ],
             [
              0.4444444444444444,
              "#bd3786"
             ],
             [
              0.5555555555555556,
              "#d8576b"
             ],
             [
              0.6666666666666666,
              "#ed7953"
             ],
             [
              0.7777777777777778,
              "#fb9f3a"
             ],
             [
              0.8888888888888888,
              "#fdca26"
             ],
             [
              1,
              "#f0f921"
             ]
            ],
            "type": "surface"
           }
          ],
          "table": [
           {
            "cells": {
             "fill": {
              "color": "#EBF0F8"
             },
             "line": {
              "color": "white"
             }
            },
            "header": {
             "fill": {
              "color": "#C8D4E3"
             },
             "line": {
              "color": "white"
             }
            },
            "type": "table"
           }
          ]
         },
         "layout": {
          "annotationdefaults": {
           "arrowcolor": "#2a3f5f",
           "arrowhead": 0,
           "arrowwidth": 1
          },
          "autotypenumbers": "strict",
          "coloraxis": {
           "colorbar": {
            "outlinewidth": 0,
            "ticks": ""
           }
          },
          "colorscale": {
           "diverging": [
            [
             0,
             "#8e0152"
            ],
            [
             0.1,
             "#c51b7d"
            ],
            [
             0.2,
             "#de77ae"
            ],
            [
             0.3,
             "#f1b6da"
            ],
            [
             0.4,
             "#fde0ef"
            ],
            [
             0.5,
             "#f7f7f7"
            ],
            [
             0.6,
             "#e6f5d0"
            ],
            [
             0.7,
             "#b8e186"
            ],
            [
             0.8,
             "#7fbc41"
            ],
            [
             0.9,
             "#4d9221"
            ],
            [
             1,
             "#276419"
            ]
           ],
           "sequential": [
            [
             0,
             "#0d0887"
            ],
            [
             0.1111111111111111,
             "#46039f"
            ],
            [
             0.2222222222222222,
             "#7201a8"
            ],
            [
             0.3333333333333333,
             "#9c179e"
            ],
            [
             0.4444444444444444,
             "#bd3786"
            ],
            [
             0.5555555555555556,
             "#d8576b"
            ],
            [
             0.6666666666666666,
             "#ed7953"
            ],
            [
             0.7777777777777778,
             "#fb9f3a"
            ],
            [
             0.8888888888888888,
             "#fdca26"
            ],
            [
             1,
             "#f0f921"
            ]
           ],
           "sequentialminus": [
            [
             0,
             "#0d0887"
            ],
            [
             0.1111111111111111,
             "#46039f"
            ],
            [
             0.2222222222222222,
             "#7201a8"
            ],
            [
             0.3333333333333333,
             "#9c179e"
            ],
            [
             0.4444444444444444,
             "#bd3786"
            ],
            [
             0.5555555555555556,
             "#d8576b"
            ],
            [
             0.6666666666666666,
             "#ed7953"
            ],
            [
             0.7777777777777778,
             "#fb9f3a"
            ],
            [
             0.8888888888888888,
             "#fdca26"
            ],
            [
             1,
             "#f0f921"
            ]
           ]
          },
          "colorway": [
           "#636efa",
           "#EF553B",
           "#00cc96",
           "#ab63fa",
           "#FFA15A",
           "#19d3f3",
           "#FF6692",
           "#B6E880",
           "#FF97FF",
           "#FECB52"
          ],
          "font": {
           "color": "#2a3f5f"
          },
          "geo": {
           "bgcolor": "white",
           "lakecolor": "white",
           "landcolor": "#E5ECF6",
           "showlakes": true,
           "showland": true,
           "subunitcolor": "white"
          },
          "hoverlabel": {
           "align": "left"
          },
          "hovermode": "closest",
          "mapbox": {
           "style": "light"
          },
          "paper_bgcolor": "white",
          "plot_bgcolor": "#E5ECF6",
          "polar": {
           "angularaxis": {
            "gridcolor": "white",
            "linecolor": "white",
            "ticks": ""
           },
           "bgcolor": "#E5ECF6",
           "radialaxis": {
            "gridcolor": "white",
            "linecolor": "white",
            "ticks": ""
           }
          },
          "scene": {
           "xaxis": {
            "backgroundcolor": "#E5ECF6",
            "gridcolor": "white",
            "gridwidth": 2,
            "linecolor": "white",
            "showbackground": true,
            "ticks": "",
            "zerolinecolor": "white"
           },
           "yaxis": {
            "backgroundcolor": "#E5ECF6",
            "gridcolor": "white",
            "gridwidth": 2,
            "linecolor": "white",
            "showbackground": true,
            "ticks": "",
            "zerolinecolor": "white"
           },
           "zaxis": {
            "backgroundcolor": "#E5ECF6",
            "gridcolor": "white",
            "gridwidth": 2,
            "linecolor": "white",
            "showbackground": true,
            "ticks": "",
            "zerolinecolor": "white"
           }
          },
          "shapedefaults": {
           "line": {
            "color": "#2a3f5f"
           }
          },
          "ternary": {
           "aaxis": {
            "gridcolor": "white",
            "linecolor": "white",
            "ticks": ""
           },
           "baxis": {
            "gridcolor": "white",
            "linecolor": "white",
            "ticks": ""
           },
           "bgcolor": "#E5ECF6",
           "caxis": {
            "gridcolor": "white",
            "linecolor": "white",
            "ticks": ""
           }
          },
          "title": {
           "x": 0.05
          },
          "xaxis": {
           "automargin": true,
           "gridcolor": "white",
           "linecolor": "white",
           "ticks": "",
           "title": {
            "standoff": 15
           },
           "zerolinecolor": "white",
           "zerolinewidth": 2
          },
          "yaxis": {
           "automargin": true,
           "gridcolor": "white",
           "linecolor": "white",
           "ticks": "",
           "title": {
            "standoff": 15
           },
           "zerolinecolor": "white",
           "zerolinewidth": 2
          }
         }
        }
       }
      },
      "text/html": [
       "<div>                            <div id=\"a5213426-c0a6-49c1-b557-8ad9ec081cbf\" class=\"plotly-graph-div\" style=\"height:525px; width:100%;\"></div>            <script type=\"text/javascript\">                require([\"plotly\"], function(Plotly) {                    window.PLOTLYENV=window.PLOTLYENV || {};                                    if (document.getElementById(\"a5213426-c0a6-49c1-b557-8ad9ec081cbf\")) {                    Plotly.newPlot(                        \"a5213426-c0a6-49c1-b557-8ad9ec081cbf\",                        [{\"hovertemplate\":\"PriceSqm=%{marker.color}<br>Latitude=%{lat}<br>Longitude=%{lon}<extra></extra>\",\"lat\":[54.6795359,54.7370121,54.7365415,54.7557984,54.7557984,54.7557984,54.7073304,54.6964423,54.6964423,54.6702969,54.6702969,54.7514993,54.6671508,54.699156,54.6867025,54.6997165,54.7183112,54.7094525,54.7132376,54.7269302,54.7127439,54.7093766,54.7806553,54.7262834,54.719447,54.6855778,54.6734485,54.6887027,54.6865521,54.6938166,54.6726096,54.6847512,54.6847512,54.68114,54.6878371,54.6993141,54.7082021,54.692191,54.692191,46.3144754,54.7007243,54.6606567,54.7169482,54.7169482,54.6983779,54.6777854,54.6777854,54.7093766,46.3144754,54.6768514,54.669502,54.7269302,54.7269302,54.7269302,54.7365415,54.7269302,54.7365415,54.7365415,54.7269302,54.7106655,54.7269302,54.7269302,54.7269302,54.7365962,54.7365962,54.7000932,54.7079484,54.6797059,46.3144754,54.6830044,54.6986855,54.6865521,54.7513833,46.3144754,54.6775215,54.4320912,54.727867,54.6763157,46.3144754,46.3144754,54.7271632,54.70352,54.6795359,54.7059787,54.7023529,54.6765483,54.6242689,54.6695189,54.6885859,54.6768514,54.692191,54.6893537,54.6865521,54.672749,54.6820538,54.6820881,54.6865521,54.6824266,54.7257187,54.6983779,46.3144754,54.7256864,54.7159938,54.6750351,54.7557984,54.7181715,54.7394592,54.6671508,54.7116432,54.7394592,54.7019763,54.7216783,54.6808895,46.3144754,54.7043702,54.7453292,54.695898,54.6738976,54.7257187,46.3144754,54.6718654,54.7043114,54.7262834,54.6832667,54.6832667,54.6940532,54.7009206,46.3144754,54.6933987,54.6808895,54.71229,54.6776332,54.6820881,54.6820881,54.6936548,54.6920337,46.3144754,54.7023529,54.7023529,54.7269302,54.7023529,54.7023529,54.7023529,54.7023529,54.7023529,54.7023529,54.7023529,54.6983407,54.7269302,54.6865521,54.7050142,54.6878371,54.6943712,54.8035435,54.8035435,54.6713729,54.6775689,54.6830044,54.6713729,54.6820538,54.710697,54.7394592,54.7394592,54.7269302,54.7269302,54.7269302,54.7269302,54.708805,46.3144754,54.672749,54.6394598,54.70352,54.70352,54.6941104,54.7116432,54.6795359,54.7035556,54.7141326,54.7271632,54.681859,54.6587193,54.699156,54.7316863,54.6524302,54.6524302,54.6524302,54.7068103,54.6524302,54.6947161,54.672749,54.6838596,54.708422,54.7394592,54.7394592,54.7503831,54.727867,54.727867,54.727867,54.727867,54.7806553,54.7132376,54.6784395,54.6702969,54.6702969,54.7082021,54.7367637,54.6523604,54.6523604,54.6523604,54.693305,54.6938166,54.6724269,54.6250613,54.7093766,46.3144754,54.692191,46.3144754,54.6865521,54.7057143,54.7057143,54.6838889,54.7057143,54.708149,54.7256864,54.6766768,54.6795359,54.6787801,46.3144754,46.3144754,54.7269302,54.7309,54.6947161,54.6964423,54.7257187,54.7257187,54.7257187,54.6855778,54.6819701,54.7183112,54.6832667,54.6898717,54.7005623,54.7005623,54.6987711,54.7269302,54.6624199,54.7182285,54.6947161,54.727867,54.681859,46.3144754,54.7169482,54.7169482,54.669502,46.3144754,54.6740589,54.6606567,54.6663845,54.6415736,54.689538,54.6674552,54.7007243,54.7007243,54.7007243,54.7007243,54.6587193,54.6925127,54.6905922,54.6734485,54.7458848],\"legendgroup\":\"\",\"lon\":[25.2690722,25.2307219,25.2173801,25.2604085,25.2604085,25.2604085,25.1762248,25.2637799,25.2637799,25.256417,25.256417,25.1910768,25.1783396,25.2442418,25.2660111,25.2538594,25.3511264,25.164768,25.1834507,25.2803325,25.179821,25.2133157,25.2937137,25.2323395,25.2849892,25.4247999,25.2656064,25.2083171,25.2829139,25.2960439,25.3100979,25.2895328,25.2895328,25.2813479,25.2750368,25.2267002,25.2921977,25.2891937,25.2891937,11.0480288,25.2118483,25.2792808,25.2220784,25.2220784,25.2738574,25.2812061,25.2812061,25.2133157,11.0480288,25.2987055,25.2896443,25.2803325,25.2803325,25.2803325,25.2173801,25.2803325,25.2173801,25.2173801,25.2803325,25.2168528,25.2803325,25.2803325,25.2803325,25.2650009,25.2650009,25.3139608,25.2932984,25.2646873,11.0480288,25.2677518,25.2586327,25.2829139,25.2798567,11.0480288,25.3059673,25.3074132,25.31555,25.246673,11.0480288,11.0480288,25.2542283,25.2571079,25.2690722,25.2155991,25.2141337,25.2597656,25.1109605,25.2785114,25.2686655,25.2987055,25.2891937,25.2737418,25.2829139,25.2768724,25.3119914,25.2741529,25.2829139,25.2486011,25.2876241,25.2738574,11.0480288,25.2338636,25.2321758,25.2752865,25.2604085,25.2690575,25.2136475,25.1783396,25.1769116,25.2136475,25.3172893,25.3494271,25.285329,11.0480288,25.3981359,25.2911,25.2596221,25.2671517,25.2876241,11.0480288,25.2907764,25.2662228,25.2323395,25.2649052,25.2649052,25.2409896,25.2494676,11.0480288,25.2857398,25.285329,25.251059,25.216127,25.2741529,25.2741529,25.210682,25.2628317,11.0480288,25.2141337,25.2141337,25.2803325,25.2141337,25.2141337,25.2141337,25.2141337,25.2141337,25.2141337,25.2141337,25.266425,25.2803325,25.2829139,25.3076301,25.2750368,25.2947718,25.3769106,25.3769106,25.2966661,25.3166562,25.2677518,25.2966661,25.3119914,25.3941733,25.2136475,25.2136475,25.2803325,25.2803325,25.2803325,25.2803325,25.2910265,11.0480288,25.2768724,25.200834,25.2571079,25.2571079,25.2211567,25.1769116,25.2690722,25.1221943,25.1844556,25.2542283,25.2678627,25.2320881,25.2442418,25.331217,25.3502645,25.3502645,25.3502645,25.3117445,25.3502645,25.281815,25.2768724,25.2737206,25.3301722,25.2136475,25.2136475,25.2731457,25.31555,25.31555,25.31555,25.31555,25.2937137,25.1834507,25.2735431,25.256417,25.256417,25.2921977,25.3461419,25.3600985,25.3600985,25.3600985,25.4022261,25.2960439,25.2799504,25.1856659,25.2133157,11.0480288,25.2891937,11.0480288,25.2829139,25.3042888,25.3042888,25.2875322,25.3042888,25.2797936,25.2338636,25.2835375,25.2690722,25.2705382,11.0480288,11.0480288,25.2803325,25.2117095,25.281815,25.2637799,25.2876241,25.2876241,25.2876241,25.4247999,25.2146053,25.3511264,25.2649052,25.2848224,25.2531015,25.2531015,25.2451431,25.2803325,25.2670835,25.1558724,25.281815,25.31555,25.2678627,11.0480288,25.2220784,25.2220784,25.2896443,11.0480288,25.2855354,25.2792808,25.2827545,24.9312329,25.2774708,25.2507205,25.2118483,25.2118483,25.2118483,25.2118483,25.2320881,25.2850327,25.2639455,25.2656064,25.2612994],\"marker\":{\"color\":[4194.857916102841,2334.770114942529,2500.0,2517.54653646628,2517.54653646628,2517.54653646628,2877.8718258766626,3871.923427529626,3871.923427529626,2984.4807003581377,2984.4807003581377,2772.1518987341774,2370.985126104764,3839.8119122257053,3413.068844807468,4231.884057971014,3762.8205128205127,3288.4615384615386,3089.8431310410397,2740.3846153846152,3209.644590574605,2191.8588101337887,3297.6539589442814,1497.5233268056675,3389.55562763542,1849.3150684931506,3064.629434492448,2272.7272727272725,4574.286411319834,7500.0,1250.0,3772.1557339796996,3772.1557339796996,1711.2945439903363,2766.947553766822,1989.825581395349,2821.6996852434736,5755.555555555556,5755.555555555556,6158.031408433288,2649.6902959394356,2144.578313253012,2283.4308548594263,2850.7256392536283,3836.6523821527603,3836.38343097102,3836.38343097102,2416.6666666666665,2190.0,40826.086956521736,271.52317880794703,3205.128205128205,1803.27868852459,3720.0,2015.5038759689921,3720.0,2353.2916294310394,1790.656031255087,3514.285714285714,1924.2424242424242,3843.75,3720.0,2760.8695652173915,2025.4263439987008,2025.4263439987008,4825.323296660876,3444.947803821154,1956.063797773097,2197.462086041473,4074.074074074074,4400.547623704283,4568.579568579568,2886.0780984719863,2070.1754385964914,4700.0,672.4137931034483,3191.1347517730496,2577.0051845074718,2360.9779482262707,2360.9779482262707,1604.9382716049383,3634.049773755656,4426.229508196721,1703.109375,2663.0115527707067,4431.818181818182,1934.0159271899886,3696.5914546327413,3728.779304769604,4579.889807162534,2187.5,4113.207547169812,4200.0,5205.047318611987,6634.172759274303,6887.755102040816,7173.913043478261,2991.4529914529912,3583.930655109185,3295.4545454545455,2080.5555555555557,2290.243902439024,2349.093071662206,5888.580124387985,2920.418593331711,4375.0,2338.7096774193546,2400.0,2406.5934065934066,2267.5432711659732,3040.0,2461.88710341986,4568.9655172413795,2747.3997028231797,1635.4984603541186,4413.619167717528,4073.199527744982,2650.160616768391,3214.285714285714,2280.130293159609,3172.4137931034484,2890.625,1627.6300119094878,3309.4050371091375,3302.3116181326927,3661.455788959453,3079.976477506616,3043.81049414162,5245.99461222175,5000.0,1802.3145513185355,1782.848151062156,3729.7677691766357,3729.7677691766357,1974.2489270386266,5815.253858197271,2777.777777777778,2651.515151515152,2703.5163776493255,1862.6703920074508,2679.7737678427147,2661.368015414258,2673.0406679235116,2701.499183612884,2706.706167519526,2673.4104046242774,2656.0604017796954,3500.0,2528.631705846896,3687.888198757764,2000.0,2767.2955974842766,4444.444444444444,1801.2048192771085,1801.2048192771085,3113.2075471698113,5806.451612903225,4400.547623704283,3113.2075471698113,2653.061224489796,2959.6977329974807,2983.002465291294,3000.0,3720.0,3448.2758620689656,3333.3333333333335,3175.0,2934.590453741898,1826.722338204593,4687.5,1486.6637516397027,3230.769230769231,3230.769230769231,3414.285714285714,3131.7707307465034,4764.276228419654,1759.2592592592594,4492.257832193014,2192.72076372315,2391.304347826087,3750.0,4687.5,4009.527590313616,2402.691013935608,2716.336825766395,2425.6485973423332,2884.6153846153848,2683.423913043478,2987.9385964912285,3692.104829404978,5750.0,2619.0476190476193,2200.0,2652.1739130434785,1024.5901639344263,3980.0,3890.489913544668,3880.0,3900.0,3317.6100628930817,2959.413754227734,3879.310344827586,2088.120649651972,2030.860927152318,2830.188679245283,2584.9056603773583,1793.1513188338733,1793.1513188338733,1782.2212562486416,1696.6666666666667,3584.2293906810037,3500.0,1327.5212997820488,1654.3574593796159,5469.3877551020405,5469.3877551020405,1904.2553191489362,4574.286411319834,2704.5454545454545,2478.8958863727726,4352.941176470588,2478.8958863727726,2705.8823529411766,1825.3968253968253,3816.7938931297713,3585.0324893569345,3962.264150943396,3215.401673218426,2172.1311475409834,2134.0162185232607,2896.570569749966,2697.4374344372845,2237.5,2774.0264545370455,2774.0264545370455,2774.0264545370455,1525.7259296994398,2164.179104477612,3245.4887706088534,3306.2294200658557,4503.690314806447,2986.7463132350194,2986.7463132350194,4932.098765432099,3597.3229224762968,2428.5714285714284,1777.7777777777778,3150.6849315068494,1971.8309859154929,3428.5714285714284,5972.222222222223,2590.6735751295337,2989.0744176458466,1986.3013698630136,2121.212121212121,7095.013644257007,2753.474009264025,2773.900907187718,5490.0,3992.5373134328356,3990.649524127567,2889.24134284959,2789.9906454630495,3099.601593625498,2700.0,1262.3762376237623,4627.44357351969,5000.0,2423.076923076923,1680.8424463345486],\"coloraxis\":\"coloraxis\",\"size\":[4194.857916102841,2334.770114942529,2500.0,2517.54653646628,2517.54653646628,2517.54653646628,2877.8718258766626,3871.923427529626,3871.923427529626,2984.4807003581377,2984.4807003581377,2772.1518987341774,2370.985126104764,3839.8119122257053,3413.068844807468,4231.884057971014,3762.8205128205127,3288.4615384615386,3089.8431310410397,2740.3846153846152,3209.644590574605,2191.8588101337887,3297.6539589442814,1497.5233268056675,3389.55562763542,1849.3150684931506,3064.629434492448,2272.7272727272725,4574.286411319834,7500.0,1250.0,3772.1557339796996,3772.1557339796996,1711.2945439903363,2766.947553766822,1989.825581395349,2821.6996852434736,5755.555555555556,5755.555555555556,6158.031408433288,2649.6902959394356,2144.578313253012,2283.4308548594263,2850.7256392536283,3836.6523821527603,3836.38343097102,3836.38343097102,2416.6666666666665,2190.0,40826.086956521736,271.52317880794703,3205.128205128205,1803.27868852459,3720.0,2015.5038759689921,3720.0,2353.2916294310394,1790.656031255087,3514.285714285714,1924.2424242424242,3843.75,3720.0,2760.8695652173915,2025.4263439987008,2025.4263439987008,4825.323296660876,3444.947803821154,1956.063797773097,2197.462086041473,4074.074074074074,4400.547623704283,4568.579568579568,2886.0780984719863,2070.1754385964914,4700.0,672.4137931034483,3191.1347517730496,2577.0051845074718,2360.9779482262707,2360.9779482262707,1604.9382716049383,3634.049773755656,4426.229508196721,1703.109375,2663.0115527707067,4431.818181818182,1934.0159271899886,3696.5914546327413,3728.779304769604,4579.889807162534,2187.5,4113.207547169812,4200.0,5205.047318611987,6634.172759274303,6887.755102040816,7173.913043478261,2991.4529914529912,3583.930655109185,3295.4545454545455,2080.5555555555557,2290.243902439024,2349.093071662206,5888.580124387985,2920.418593331711,4375.0,2338.7096774193546,2400.0,2406.5934065934066,2267.5432711659732,3040.0,2461.88710341986,4568.9655172413795,2747.3997028231797,1635.4984603541186,4413.619167717528,4073.199527744982,2650.160616768391,3214.285714285714,2280.130293159609,3172.4137931034484,2890.625,1627.6300119094878,3309.4050371091375,3302.3116181326927,3661.455788959453,3079.976477506616,3043.81049414162,5245.99461222175,5000.0,1802.3145513185355,1782.848151062156,3729.7677691766357,3729.7677691766357,1974.2489270386266,5815.253858197271,2777.777777777778,2651.515151515152,2703.5163776493255,1862.6703920074508,2679.7737678427147,2661.368015414258,2673.0406679235116,2701.499183612884,2706.706167519526,2673.4104046242774,2656.0604017796954,3500.0,2528.631705846896,3687.888198757764,2000.0,2767.2955974842766,4444.444444444444,1801.2048192771085,1801.2048192771085,3113.2075471698113,5806.451612903225,4400.547623704283,3113.2075471698113,2653.061224489796,2959.6977329974807,2983.002465291294,3000.0,3720.0,3448.2758620689656,3333.3333333333335,3175.0,2934.590453741898,1826.722338204593,4687.5,1486.6637516397027,3230.769230769231,3230.769230769231,3414.285714285714,3131.7707307465034,4764.276228419654,1759.2592592592594,4492.257832193014,2192.72076372315,2391.304347826087,3750.0,4687.5,4009.527590313616,2402.691013935608,2716.336825766395,2425.6485973423332,2884.6153846153848,2683.423913043478,2987.9385964912285,3692.104829404978,5750.0,2619.0476190476193,2200.0,2652.1739130434785,1024.5901639344263,3980.0,3890.489913544668,3880.0,3900.0,3317.6100628930817,2959.413754227734,3879.310344827586,2088.120649651972,2030.860927152318,2830.188679245283,2584.9056603773583,1793.1513188338733,1793.1513188338733,1782.2212562486416,1696.6666666666667,3584.2293906810037,3500.0,1327.5212997820488,1654.3574593796159,5469.3877551020405,5469.3877551020405,1904.2553191489362,4574.286411319834,2704.5454545454545,2478.8958863727726,4352.941176470588,2478.8958863727726,2705.8823529411766,1825.3968253968253,3816.7938931297713,3585.0324893569345,3962.264150943396,3215.401673218426,2172.1311475409834,2134.0162185232607,2896.570569749966,2697.4374344372845,2237.5,2774.0264545370455,2774.0264545370455,2774.0264545370455,1525.7259296994398,2164.179104477612,3245.4887706088534,3306.2294200658557,4503.690314806447,2986.7463132350194,2986.7463132350194,4932.098765432099,3597.3229224762968,2428.5714285714284,1777.7777777777778,3150.6849315068494,1971.8309859154929,3428.5714285714284,5972.222222222223,2590.6735751295337,2989.0744176458466,1986.3013698630136,2121.212121212121,7095.013644257007,2753.474009264025,2773.900907187718,5490.0,3992.5373134328356,3990.649524127567,2889.24134284959,2789.9906454630495,3099.601593625498,2700.0,1262.3762376237623,4627.44357351969,5000.0,2423.076923076923,1680.8424463345486],\"sizemode\":\"area\",\"sizeref\":16.330434782608695},\"mode\":\"markers\",\"name\":\"\",\"showlegend\":false,\"subplot\":\"mapbox\",\"type\":\"scattermapbox\"}],                        {\"template\":{\"data\":{\"histogram2dcontour\":[{\"type\":\"histogram2dcontour\",\"colorbar\":{\"outlinewidth\":0,\"ticks\":\"\"},\"colorscale\":[[0.0,\"#0d0887\"],[0.1111111111111111,\"#46039f\"],[0.2222222222222222,\"#7201a8\"],[0.3333333333333333,\"#9c179e\"],[0.4444444444444444,\"#bd3786\"],[0.5555555555555556,\"#d8576b\"],[0.6666666666666666,\"#ed7953\"],[0.7777777777777778,\"#fb9f3a\"],[0.8888888888888888,\"#fdca26\"],[1.0,\"#f0f921\"]]}],\"choropleth\":[{\"type\":\"choropleth\",\"colorbar\":{\"outlinewidth\":0,\"ticks\":\"\"}}],\"histogram2d\":[{\"type\":\"histogram2d\",\"colorbar\":{\"outlinewidth\":0,\"ticks\":\"\"},\"colorscale\":[[0.0,\"#0d0887\"],[0.1111111111111111,\"#46039f\"],[0.2222222222222222,\"#7201a8\"],[0.3333333333333333,\"#9c179e\"],[0.4444444444444444,\"#bd3786\"],[0.5555555555555556,\"#d8576b\"],[0.6666666666666666,\"#ed7953\"],[0.7777777777777778,\"#fb9f3a\"],[0.8888888888888888,\"#fdca26\"],[1.0,\"#f0f921\"]]}],\"heatmap\":[{\"type\":\"heatmap\",\"colorbar\":{\"outlinewidth\":0,\"ticks\":\"\"},\"colorscale\":[[0.0,\"#0d0887\"],[0.1111111111111111,\"#46039f\"],[0.2222222222222222,\"#7201a8\"],[0.3333333333333333,\"#9c179e\"],[0.4444444444444444,\"#bd3786\"],[0.5555555555555556,\"#d8576b\"],[0.6666666666666666,\"#ed7953\"],[0.7777777777777778,\"#fb9f3a\"],[0.8888888888888888,\"#fdca26\"],[1.0,\"#f0f921\"]]}],\"heatmapgl\":[{\"type\":\"heatmapgl\",\"colorbar\":{\"outlinewidth\":0,\"ticks\":\"\"},\"colorscale\":[[0.0,\"#0d0887\"],[0.1111111111111111,\"#46039f\"],[0.2222222222222222,\"#7201a8\"],[0.3333333333333333,\"#9c179e\"],[0.4444444444444444,\"#bd3786\"],[0.5555555555555556,\"#d8576b\"],[0.6666666666666666,\"#ed7953\"],[0.7777777777777778,\"#fb9f3a\"],[0.8888888888888888,\"#fdca26\"],[1.0,\"#f0f921\"]]}],\"contourcarpet\":[{\"type\":\"contourcarpet\",\"colorbar\":{\"outlinewidth\":0,\"ticks\":\"\"}}],\"contour\":[{\"type\":\"contour\",\"colorbar\":{\"outlinewidth\":0,\"ticks\":\"\"},\"colorscale\":[[0.0,\"#0d0887\"],[0.1111111111111111,\"#46039f\"],[0.2222222222222222,\"#7201a8\"],[0.3333333333333333,\"#9c179e\"],[0.4444444444444444,\"#bd3786\"],[0.5555555555555556,\"#d8576b\"],[0.6666666666666666,\"#ed7953\"],[0.7777777777777778,\"#fb9f3a\"],[0.8888888888888888,\"#fdca26\"],[1.0,\"#f0f921\"]]}],\"surface\":[{\"type\":\"surface\",\"colorbar\":{\"outlinewidth\":0,\"ticks\":\"\"},\"colorscale\":[[0.0,\"#0d0887\"],[0.1111111111111111,\"#46039f\"],[0.2222222222222222,\"#7201a8\"],[0.3333333333333333,\"#9c179e\"],[0.4444444444444444,\"#bd3786\"],[0.5555555555555556,\"#d8576b\"],[0.6666666666666666,\"#ed7953\"],[0.7777777777777778,\"#fb9f3a\"],[0.8888888888888888,\"#fdca26\"],[1.0,\"#f0f921\"]]}],\"mesh3d\":[{\"type\":\"mesh3d\",\"colorbar\":{\"outlinewidth\":0,\"ticks\":\"\"}}],\"scatter\":[{\"fillpattern\":{\"fillmode\":\"overlay\",\"size\":10,\"solidity\":0.2},\"type\":\"scatter\"}],\"parcoords\":[{\"type\":\"parcoords\",\"line\":{\"colorbar\":{\"outlinewidth\":0,\"ticks\":\"\"}}}],\"scatterpolargl\":[{\"type\":\"scatterpolargl\",\"marker\":{\"colorbar\":{\"outlinewidth\":0,\"ticks\":\"\"}}}],\"bar\":[{\"error_x\":{\"color\":\"#2a3f5f\"},\"error_y\":{\"color\":\"#2a3f5f\"},\"marker\":{\"line\":{\"color\":\"#E5ECF6\",\"width\":0.5},\"pattern\":{\"fillmode\":\"overlay\",\"size\":10,\"solidity\":0.2}},\"type\":\"bar\"}],\"scattergeo\":[{\"type\":\"scattergeo\",\"marker\":{\"colorbar\":{\"outlinewidth\":0,\"ticks\":\"\"}}}],\"scatterpolar\":[{\"type\":\"scatterpolar\",\"marker\":{\"colorbar\":{\"outlinewidth\":0,\"ticks\":\"\"}}}],\"histogram\":[{\"marker\":{\"pattern\":{\"fillmode\":\"overlay\",\"size\":10,\"solidity\":0.2}},\"type\":\"histogram\"}],\"scattergl\":[{\"type\":\"scattergl\",\"marker\":{\"colorbar\":{\"outlinewidth\":0,\"ticks\":\"\"}}}],\"scatter3d\":[{\"type\":\"scatter3d\",\"line\":{\"colorbar\":{\"outlinewidth\":0,\"ticks\":\"\"}},\"marker\":{\"colorbar\":{\"outlinewidth\":0,\"ticks\":\"\"}}}],\"scattermapbox\":[{\"type\":\"scattermapbox\",\"marker\":{\"colorbar\":{\"outlinewidth\":0,\"ticks\":\"\"}}}],\"scatterternary\":[{\"type\":\"scatterternary\",\"marker\":{\"colorbar\":{\"outlinewidth\":0,\"ticks\":\"\"}}}],\"scattercarpet\":[{\"type\":\"scattercarpet\",\"marker\":{\"colorbar\":{\"outlinewidth\":0,\"ticks\":\"\"}}}],\"carpet\":[{\"aaxis\":{\"endlinecolor\":\"#2a3f5f\",\"gridcolor\":\"white\",\"linecolor\":\"white\",\"minorgridcolor\":\"white\",\"startlinecolor\":\"#2a3f5f\"},\"baxis\":{\"endlinecolor\":\"#2a3f5f\",\"gridcolor\":\"white\",\"linecolor\":\"white\",\"minorgridcolor\":\"white\",\"startlinecolor\":\"#2a3f5f\"},\"type\":\"carpet\"}],\"table\":[{\"cells\":{\"fill\":{\"color\":\"#EBF0F8\"},\"line\":{\"color\":\"white\"}},\"header\":{\"fill\":{\"color\":\"#C8D4E3\"},\"line\":{\"color\":\"white\"}},\"type\":\"table\"}],\"barpolar\":[{\"marker\":{\"line\":{\"color\":\"#E5ECF6\",\"width\":0.5},\"pattern\":{\"fillmode\":\"overlay\",\"size\":10,\"solidity\":0.2}},\"type\":\"barpolar\"}],\"pie\":[{\"automargin\":true,\"type\":\"pie\"}]},\"layout\":{\"autotypenumbers\":\"strict\",\"colorway\":[\"#636efa\",\"#EF553B\",\"#00cc96\",\"#ab63fa\",\"#FFA15A\",\"#19d3f3\",\"#FF6692\",\"#B6E880\",\"#FF97FF\",\"#FECB52\"],\"font\":{\"color\":\"#2a3f5f\"},\"hovermode\":\"closest\",\"hoverlabel\":{\"align\":\"left\"},\"paper_bgcolor\":\"white\",\"plot_bgcolor\":\"#E5ECF6\",\"polar\":{\"bgcolor\":\"#E5ECF6\",\"angularaxis\":{\"gridcolor\":\"white\",\"linecolor\":\"white\",\"ticks\":\"\"},\"radialaxis\":{\"gridcolor\":\"white\",\"linecolor\":\"white\",\"ticks\":\"\"}},\"ternary\":{\"bgcolor\":\"#E5ECF6\",\"aaxis\":{\"gridcolor\":\"white\",\"linecolor\":\"white\",\"ticks\":\"\"},\"baxis\":{\"gridcolor\":\"white\",\"linecolor\":\"white\",\"ticks\":\"\"},\"caxis\":{\"gridcolor\":\"white\",\"linecolor\":\"white\",\"ticks\":\"\"}},\"coloraxis\":{\"colorbar\":{\"outlinewidth\":0,\"ticks\":\"\"}},\"colorscale\":{\"sequential\":[[0.0,\"#0d0887\"],[0.1111111111111111,\"#46039f\"],[0.2222222222222222,\"#7201a8\"],[0.3333333333333333,\"#9c179e\"],[0.4444444444444444,\"#bd3786\"],[0.5555555555555556,\"#d8576b\"],[0.6666666666666666,\"#ed7953\"],[0.7777777777777778,\"#fb9f3a\"],[0.8888888888888888,\"#fdca26\"],[1.0,\"#f0f921\"]],\"sequentialminus\":[[0.0,\"#0d0887\"],[0.1111111111111111,\"#46039f\"],[0.2222222222222222,\"#7201a8\"],[0.3333333333333333,\"#9c179e\"],[0.4444444444444444,\"#bd3786\"],[0.5555555555555556,\"#d8576b\"],[0.6666666666666666,\"#ed7953\"],[0.7777777777777778,\"#fb9f3a\"],[0.8888888888888888,\"#fdca26\"],[1.0,\"#f0f921\"]],\"diverging\":[[0,\"#8e0152\"],[0.1,\"#c51b7d\"],[0.2,\"#de77ae\"],[0.3,\"#f1b6da\"],[0.4,\"#fde0ef\"],[0.5,\"#f7f7f7\"],[0.6,\"#e6f5d0\"],[0.7,\"#b8e186\"],[0.8,\"#7fbc41\"],[0.9,\"#4d9221\"],[1,\"#276419\"]]},\"xaxis\":{\"gridcolor\":\"white\",\"linecolor\":\"white\",\"ticks\":\"\",\"title\":{\"standoff\":15},\"zerolinecolor\":\"white\",\"automargin\":true,\"zerolinewidth\":2},\"yaxis\":{\"gridcolor\":\"white\",\"linecolor\":\"white\",\"ticks\":\"\",\"title\":{\"standoff\":15},\"zerolinecolor\":\"white\",\"automargin\":true,\"zerolinewidth\":2},\"scene\":{\"xaxis\":{\"backgroundcolor\":\"#E5ECF6\",\"gridcolor\":\"white\",\"linecolor\":\"white\",\"showbackground\":true,\"ticks\":\"\",\"zerolinecolor\":\"white\",\"gridwidth\":2},\"yaxis\":{\"backgroundcolor\":\"#E5ECF6\",\"gridcolor\":\"white\",\"linecolor\":\"white\",\"showbackground\":true,\"ticks\":\"\",\"zerolinecolor\":\"white\",\"gridwidth\":2},\"zaxis\":{\"backgroundcolor\":\"#E5ECF6\",\"gridcolor\":\"white\",\"linecolor\":\"white\",\"showbackground\":true,\"ticks\":\"\",\"zerolinecolor\":\"white\",\"gridwidth\":2}},\"shapedefaults\":{\"line\":{\"color\":\"#2a3f5f\"}},\"annotationdefaults\":{\"arrowcolor\":\"#2a3f5f\",\"arrowhead\":0,\"arrowwidth\":1},\"geo\":{\"bgcolor\":\"white\",\"landcolor\":\"#E5ECF6\",\"subunitcolor\":\"white\",\"showland\":true,\"showlakes\":true,\"lakecolor\":\"white\"},\"title\":{\"x\":0.05},\"mapbox\":{\"style\":\"light\"}}},\"mapbox\":{\"domain\":{\"x\":[0.0,1.0],\"y\":[0.0,1.0]},\"center\":{\"lat\":54.14089846148152,\"lon\":24.317878545185184},\"accesstoken\":\"pk.eyJ1IjoiZ2VkaW1pbmFzZ3J1b2QiLCJhIjoiY2wxcmpsOGk4MXFoZTNpcXIzeGxtYTJ2ayJ9.N2QdFZQgp_DOZZJXh2Ectw\",\"zoom\":12},\"coloraxis\":{\"colorbar\":{\"title\":{\"text\":\"PriceSqm\"}},\"colorscale\":[[0.0,\"#000000\"],[0.0625,\"#001f4d\"],[0.125,\"#003786\"],[0.1875,\"#0e58a8\"],[0.25,\"#217eb8\"],[0.3125,\"#30a4ca\"],[0.375,\"#54c8df\"],[0.4375,\"#9be4ef\"],[0.5,\"#e1e9d1\"],[0.5625,\"#f3d573\"],[0.625,\"#e7b000\"],[0.6875,\"#da8200\"],[0.75,\"#c65400\"],[0.8125,\"#ac2301\"],[0.875,\"#820000\"],[0.9375,\"#4c0000\"],[1.0,\"#000000\"]]},\"legend\":{\"tracegroupgap\":0,\"itemsizing\":\"constant\"},\"margin\":{\"t\":60}},                        {\"responsive\": true}                    ).then(function(){\n",
       "                            \n",
       "var gd = document.getElementById('a5213426-c0a6-49c1-b557-8ad9ec081cbf');\n",
       "var x = new MutationObserver(function (mutations, observer) {{\n",
       "        var display = window.getComputedStyle(gd).display;\n",
       "        if (!display || display === 'none') {{\n",
       "            console.log([gd, 'removed!']);\n",
       "            Plotly.purge(gd);\n",
       "            observer.disconnect();\n",
       "        }}\n",
       "}});\n",
       "\n",
       "// Listen for the removal of the full notebook cells\n",
       "var notebookContainer = gd.closest('#notebook-container');\n",
       "if (notebookContainer) {{\n",
       "    x.observe(notebookContainer, {childList: true});\n",
       "}}\n",
       "\n",
       "// Listen for the clearing of the current output cell\n",
       "var outputEl = gd.closest('.output');\n",
       "if (outputEl) {{\n",
       "    x.observe(outputEl, {childList: true});\n",
       "}}\n",
       "\n",
       "                        })                };                });            </script>        </div>"
      ]
     },
     "metadata": {},
     "output_type": "display_data"
    }
   ],
   "source": [
    "import matplotlib.pyplot as plt\n",
    "import seaborn as sns\n",
    "import plotly.express as px\n",
    "\n",
    "px.set_mapbox_access_token(\"pk.eyJ1IjoiZ2VkaW1pbmFzZ3J1b2QiLCJhIjoiY2wxcmpsOGk4MXFoZTNpcXIzeGxtYTJ2ayJ9.N2QdFZQgp_DOZZJXh2Ectw\")\n",
    "fig = px.scatter_mapbox(df_re, lat=\"Latitude\", lon=\"Longitude\",color=\"PriceSqm\", size=\"PriceSqm\",\n",
    "                  color_continuous_scale=px.colors.cyclical.IceFire, size_max=50,zoom=12)\n",
    "fig.show()"
   ]
  },
  {
   "cell_type": "code",
   "execution_count": null,
   "metadata": {},
   "outputs": [],
   "source": []
  }
 ],
 "metadata": {
  "kernelspec": {
   "display_name": "Python 3",
   "language": "python",
   "name": "python3"
  },
  "language_info": {
   "codemirror_mode": {
    "name": "ipython",
    "version": 3
   },
   "file_extension": ".py",
   "mimetype": "text/x-python",
   "name": "python",
   "nbconvert_exporter": "python",
   "pygments_lexer": "ipython3",
   "version": "3.8.5"
  }
 },
 "nbformat": 4,
 "nbformat_minor": 4
}
