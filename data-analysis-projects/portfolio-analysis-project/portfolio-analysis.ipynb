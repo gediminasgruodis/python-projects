{
 "cells": [
  {
   "cell_type": "code",
   "execution_count": 2,
   "id": "e1c63fd8",
   "metadata": {},
   "outputs": [],
   "source": [
    "#Import modules\n",
    "import pandas as pd\n",
    "import matplotlib.pyplot as plt\n",
    "import seaborn as sns"
   ]
  },
  {
   "cell_type": "markdown",
   "id": "f0b124dd",
   "metadata": {},
   "source": [
    "## 1. Data Preparation"
   ]
  },
  {
   "cell_type": "code",
   "execution_count": 5,
   "id": "cc88d754",
   "metadata": {},
   "outputs": [],
   "source": [
    "#Import insurance data\n",
    "policies = pd.read_excel(r'C:\\Users\\gediminas.gruodis\\OneDrive - IDAVANG\\Darbalaukis\\insur\\policies.xlsx')\n",
    "claims = pd.read_excel(r'C:\\Users\\gediminas.gruodis\\OneDrive - IDAVANG\\Darbalaukis\\insur\\claims.xlsx')"
   ]
  },
  {
   "cell_type": "code",
   "execution_count": 6,
   "id": "48be7795",
   "metadata": {},
   "outputs": [
    {
     "data": {
      "text/html": [
       "<div>\n",
       "<style scoped>\n",
       "    .dataframe tbody tr th:only-of-type {\n",
       "        vertical-align: middle;\n",
       "    }\n",
       "\n",
       "    .dataframe tbody tr th {\n",
       "        vertical-align: top;\n",
       "    }\n",
       "\n",
       "    .dataframe thead th {\n",
       "        text-align: right;\n",
       "    }\n",
       "</style>\n",
       "<table border=\"1\" class=\"dataframe\">\n",
       "  <thead>\n",
       "    <tr style=\"text-align: right;\">\n",
       "      <th></th>\n",
       "      <th>policyid</th>\n",
       "      <th>Country</th>\n",
       "      <th>VehicleType</th>\n",
       "      <th>VehicleUsage</th>\n",
       "      <th>Power</th>\n",
       "      <th>Weight</th>\n",
       "      <th>Colour</th>\n",
       "      <th>VehicleFirstRegistrationYear</th>\n",
       "      <th>VehicleAge</th>\n",
       "      <th>Mark</th>\n",
       "      <th>Model</th>\n",
       "      <th>EngineType</th>\n",
       "      <th>RenewalIndicator</th>\n",
       "      <th>Leasing</th>\n",
       "      <th>Deductible_general</th>\n",
       "      <th>Deductible_glass</th>\n",
       "      <th>premium</th>\n",
       "      <th>suminsured</th>\n",
       "      <th>policy_period_in_years</th>\n",
       "      <th>year</th>\n",
       "    </tr>\n",
       "  </thead>\n",
       "  <tbody>\n",
       "    <tr>\n",
       "      <th>0</th>\n",
       "      <td>1</td>\n",
       "      <td>LV</td>\n",
       "      <td>Passenger car</td>\n",
       "      <td>Regular</td>\n",
       "      <td>77</td>\n",
       "      <td>1940</td>\n",
       "      <td>Gaiši bruna</td>\n",
       "      <td>2007</td>\n",
       "      <td>6</td>\n",
       "      <td>VOLKSWAGEN</td>\n",
       "      <td>JETTA</td>\n",
       "      <td>Diesel</td>\n",
       "      <td>0</td>\n",
       "      <td>0</td>\n",
       "      <td>142.29</td>\n",
       "      <td>42.69</td>\n",
       "      <td>250.9</td>\n",
       "      <td>8140.0</td>\n",
       "      <td>1.000000</td>\n",
       "      <td>2013</td>\n",
       "    </tr>\n",
       "    <tr>\n",
       "      <th>1</th>\n",
       "      <td>2</td>\n",
       "      <td>LV</td>\n",
       "      <td>Passenger car</td>\n",
       "      <td>Regular</td>\n",
       "      <td>85</td>\n",
       "      <td>2500</td>\n",
       "      <td>Tumši zila</td>\n",
       "      <td>2001</td>\n",
       "      <td>12</td>\n",
       "      <td>VOLKSWAGEN</td>\n",
       "      <td>SHARAN</td>\n",
       "      <td>Diesel</td>\n",
       "      <td>0</td>\n",
       "      <td>0</td>\n",
       "      <td>142.29</td>\n",
       "      <td>42.69</td>\n",
       "      <td>109.5</td>\n",
       "      <td>5710.0</td>\n",
       "      <td>0.575342</td>\n",
       "      <td>2013</td>\n",
       "    </tr>\n",
       "    <tr>\n",
       "      <th>2</th>\n",
       "      <td>3</td>\n",
       "      <td>LV</td>\n",
       "      <td>Passenger car</td>\n",
       "      <td>Regular</td>\n",
       "      <td>110</td>\n",
       "      <td>2180</td>\n",
       "      <td>Melna</td>\n",
       "      <td>2006</td>\n",
       "      <td>8</td>\n",
       "      <td>OPEL</td>\n",
       "      <td>VECTRA STATION WAGON</td>\n",
       "      <td>Diesel</td>\n",
       "      <td>0</td>\n",
       "      <td>0</td>\n",
       "      <td>140.00</td>\n",
       "      <td>70.00</td>\n",
       "      <td>284.5</td>\n",
       "      <td>6460.0</td>\n",
       "      <td>1.000000</td>\n",
       "      <td>2014</td>\n",
       "    </tr>\n",
       "    <tr>\n",
       "      <th>3</th>\n",
       "      <td>4</td>\n",
       "      <td>LV</td>\n",
       "      <td>Passenger car</td>\n",
       "      <td>Regular</td>\n",
       "      <td>103</td>\n",
       "      <td>2210</td>\n",
       "      <td>Tumši peleka</td>\n",
       "      <td>2012</td>\n",
       "      <td>2</td>\n",
       "      <td>VOLKSWAGEN</td>\n",
       "      <td>PASSAT</td>\n",
       "      <td>Diesel</td>\n",
       "      <td>1</td>\n",
       "      <td>1</td>\n",
       "      <td>142.29</td>\n",
       "      <td>42.69</td>\n",
       "      <td>525.4</td>\n",
       "      <td>22190.0</td>\n",
       "      <td>1.000000</td>\n",
       "      <td>2014</td>\n",
       "    </tr>\n",
       "    <tr>\n",
       "      <th>4</th>\n",
       "      <td>5</td>\n",
       "      <td>LV</td>\n",
       "      <td>Passenger car</td>\n",
       "      <td>Regular</td>\n",
       "      <td>70</td>\n",
       "      <td>1460</td>\n",
       "      <td>Melna</td>\n",
       "      <td>2007</td>\n",
       "      <td>6</td>\n",
       "      <td>MITSUBISHI</td>\n",
       "      <td>COLT</td>\n",
       "      <td>Benzine</td>\n",
       "      <td>1</td>\n",
       "      <td>0</td>\n",
       "      <td>140.00</td>\n",
       "      <td>70.00</td>\n",
       "      <td>348.9</td>\n",
       "      <td>4500.0</td>\n",
       "      <td>1.000000</td>\n",
       "      <td>2013</td>\n",
       "    </tr>\n",
       "  </tbody>\n",
       "</table>\n",
       "</div>"
      ],
      "text/plain": [
       "   policyid Country    VehicleType VehicleUsage  Power  Weight        Colour  \\\n",
       "0         1      LV  Passenger car      Regular     77    1940   Gaiši bruna   \n",
       "1         2      LV  Passenger car      Regular     85    2500    Tumši zila   \n",
       "2         3      LV  Passenger car      Regular    110    2180         Melna   \n",
       "3         4      LV  Passenger car      Regular    103    2210  Tumši peleka   \n",
       "4         5      LV  Passenger car      Regular     70    1460         Melna   \n",
       "\n",
       "   VehicleFirstRegistrationYear  VehicleAge        Mark                 Model  \\\n",
       "0                          2007           6  VOLKSWAGEN                 JETTA   \n",
       "1                          2001          12  VOLKSWAGEN                SHARAN   \n",
       "2                          2006           8        OPEL  VECTRA STATION WAGON   \n",
       "3                          2012           2  VOLKSWAGEN                PASSAT   \n",
       "4                          2007           6  MITSUBISHI                  COLT   \n",
       "\n",
       "  EngineType  RenewalIndicator  Leasing  Deductible_general  Deductible_glass  \\\n",
       "0     Diesel                 0        0              142.29             42.69   \n",
       "1     Diesel                 0        0              142.29             42.69   \n",
       "2     Diesel                 0        0              140.00             70.00   \n",
       "3     Diesel                 1        1              142.29             42.69   \n",
       "4    Benzine                 1        0              140.00             70.00   \n",
       "\n",
       "   premium  suminsured  policy_period_in_years  year  \n",
       "0    250.9      8140.0                1.000000  2013  \n",
       "1    109.5      5710.0                0.575342  2013  \n",
       "2    284.5      6460.0                1.000000  2014  \n",
       "3    525.4     22190.0                1.000000  2014  \n",
       "4    348.9      4500.0                1.000000  2013  "
      ]
     },
     "execution_count": 6,
     "metadata": {},
     "output_type": "execute_result"
    }
   ],
   "source": [
    "#View policies data\n",
    "policies.head()"
   ]
  },
  {
   "cell_type": "code",
   "execution_count": 7,
   "id": "7dd7a1dd",
   "metadata": {},
   "outputs": [
    {
     "data": {
      "text/html": [
       "<div>\n",
       "<style scoped>\n",
       "    .dataframe tbody tr th:only-of-type {\n",
       "        vertical-align: middle;\n",
       "    }\n",
       "\n",
       "    .dataframe tbody tr th {\n",
       "        vertical-align: top;\n",
       "    }\n",
       "\n",
       "    .dataframe thead th {\n",
       "        text-align: right;\n",
       "    }\n",
       "</style>\n",
       "<table border=\"1\" class=\"dataframe\">\n",
       "  <thead>\n",
       "    <tr style=\"text-align: right;\">\n",
       "      <th></th>\n",
       "      <th>claimid</th>\n",
       "      <th>policyid</th>\n",
       "      <th>IncurredAmount</th>\n",
       "      <th>ClaimType</th>\n",
       "    </tr>\n",
       "  </thead>\n",
       "  <tbody>\n",
       "    <tr>\n",
       "      <th>0</th>\n",
       "      <td>1</td>\n",
       "      <td>1</td>\n",
       "      <td>197.6</td>\n",
       "      <td>Other</td>\n",
       "    </tr>\n",
       "    <tr>\n",
       "      <th>1</th>\n",
       "      <td>2</td>\n",
       "      <td>1</td>\n",
       "      <td>354.4</td>\n",
       "      <td>Accident</td>\n",
       "    </tr>\n",
       "    <tr>\n",
       "      <th>2</th>\n",
       "      <td>3</td>\n",
       "      <td>3</td>\n",
       "      <td>408.9</td>\n",
       "      <td>Glass</td>\n",
       "    </tr>\n",
       "    <tr>\n",
       "      <th>3</th>\n",
       "      <td>4</td>\n",
       "      <td>3</td>\n",
       "      <td>1276.0</td>\n",
       "      <td>Accident</td>\n",
       "    </tr>\n",
       "    <tr>\n",
       "      <th>4</th>\n",
       "      <td>5</td>\n",
       "      <td>4</td>\n",
       "      <td>389.4</td>\n",
       "      <td>Glass</td>\n",
       "    </tr>\n",
       "  </tbody>\n",
       "</table>\n",
       "</div>"
      ],
      "text/plain": [
       "   claimid  policyid  IncurredAmount ClaimType\n",
       "0        1         1           197.6     Other\n",
       "1        2         1           354.4  Accident\n",
       "2        3         3           408.9     Glass\n",
       "3        4         3          1276.0  Accident\n",
       "4        5         4           389.4     Glass"
      ]
     },
     "execution_count": 7,
     "metadata": {},
     "output_type": "execute_result"
    }
   ],
   "source": [
    "#View claims data\n",
    "claims.head()"
   ]
  },
  {
   "cell_type": "code",
   "execution_count": 8,
   "id": "d26a0463",
   "metadata": {},
   "outputs": [
    {
     "data": {
      "text/html": [
       "<div>\n",
       "<style scoped>\n",
       "    .dataframe tbody tr th:only-of-type {\n",
       "        vertical-align: middle;\n",
       "    }\n",
       "\n",
       "    .dataframe tbody tr th {\n",
       "        vertical-align: top;\n",
       "    }\n",
       "\n",
       "    .dataframe thead th {\n",
       "        text-align: right;\n",
       "    }\n",
       "</style>\n",
       "<table border=\"1\" class=\"dataframe\">\n",
       "  <thead>\n",
       "    <tr style=\"text-align: right;\">\n",
       "      <th></th>\n",
       "      <th>policyid</th>\n",
       "      <th>Country</th>\n",
       "      <th>VehicleType</th>\n",
       "      <th>VehicleUsage</th>\n",
       "      <th>Power</th>\n",
       "      <th>Weight</th>\n",
       "      <th>Colour</th>\n",
       "      <th>VehicleFirstRegistrationYear</th>\n",
       "      <th>VehicleAge</th>\n",
       "      <th>Mark</th>\n",
       "      <th>...</th>\n",
       "      <th>Leasing</th>\n",
       "      <th>Deductible_general</th>\n",
       "      <th>Deductible_glass</th>\n",
       "      <th>premium</th>\n",
       "      <th>suminsured</th>\n",
       "      <th>policy_period_in_years</th>\n",
       "      <th>year</th>\n",
       "      <th>claimid</th>\n",
       "      <th>IncurredAmount</th>\n",
       "      <th>ClaimType</th>\n",
       "    </tr>\n",
       "  </thead>\n",
       "  <tbody>\n",
       "    <tr>\n",
       "      <th>0</th>\n",
       "      <td>1</td>\n",
       "      <td>LV</td>\n",
       "      <td>Passenger car</td>\n",
       "      <td>Regular</td>\n",
       "      <td>77</td>\n",
       "      <td>1940</td>\n",
       "      <td>Gaiši bruna</td>\n",
       "      <td>2007</td>\n",
       "      <td>6</td>\n",
       "      <td>VOLKSWAGEN</td>\n",
       "      <td>...</td>\n",
       "      <td>0</td>\n",
       "      <td>142.29</td>\n",
       "      <td>42.69</td>\n",
       "      <td>250.9</td>\n",
       "      <td>8140.0</td>\n",
       "      <td>1.000000</td>\n",
       "      <td>2013</td>\n",
       "      <td>1.0</td>\n",
       "      <td>197.6</td>\n",
       "      <td>Other</td>\n",
       "    </tr>\n",
       "    <tr>\n",
       "      <th>1</th>\n",
       "      <td>1</td>\n",
       "      <td>LV</td>\n",
       "      <td>Passenger car</td>\n",
       "      <td>Regular</td>\n",
       "      <td>77</td>\n",
       "      <td>1940</td>\n",
       "      <td>Gaiši bruna</td>\n",
       "      <td>2007</td>\n",
       "      <td>6</td>\n",
       "      <td>VOLKSWAGEN</td>\n",
       "      <td>...</td>\n",
       "      <td>0</td>\n",
       "      <td>142.29</td>\n",
       "      <td>42.69</td>\n",
       "      <td>250.9</td>\n",
       "      <td>8140.0</td>\n",
       "      <td>1.000000</td>\n",
       "      <td>2013</td>\n",
       "      <td>2.0</td>\n",
       "      <td>354.4</td>\n",
       "      <td>Accident</td>\n",
       "    </tr>\n",
       "    <tr>\n",
       "      <th>2</th>\n",
       "      <td>2</td>\n",
       "      <td>LV</td>\n",
       "      <td>Passenger car</td>\n",
       "      <td>Regular</td>\n",
       "      <td>85</td>\n",
       "      <td>2500</td>\n",
       "      <td>Tumši zila</td>\n",
       "      <td>2001</td>\n",
       "      <td>12</td>\n",
       "      <td>VOLKSWAGEN</td>\n",
       "      <td>...</td>\n",
       "      <td>0</td>\n",
       "      <td>142.29</td>\n",
       "      <td>42.69</td>\n",
       "      <td>109.5</td>\n",
       "      <td>5710.0</td>\n",
       "      <td>0.575342</td>\n",
       "      <td>2013</td>\n",
       "      <td>NaN</td>\n",
       "      <td>NaN</td>\n",
       "      <td>NaN</td>\n",
       "    </tr>\n",
       "    <tr>\n",
       "      <th>3</th>\n",
       "      <td>3</td>\n",
       "      <td>LV</td>\n",
       "      <td>Passenger car</td>\n",
       "      <td>Regular</td>\n",
       "      <td>110</td>\n",
       "      <td>2180</td>\n",
       "      <td>Melna</td>\n",
       "      <td>2006</td>\n",
       "      <td>8</td>\n",
       "      <td>OPEL</td>\n",
       "      <td>...</td>\n",
       "      <td>0</td>\n",
       "      <td>140.00</td>\n",
       "      <td>70.00</td>\n",
       "      <td>284.5</td>\n",
       "      <td>6460.0</td>\n",
       "      <td>1.000000</td>\n",
       "      <td>2014</td>\n",
       "      <td>3.0</td>\n",
       "      <td>408.9</td>\n",
       "      <td>Glass</td>\n",
       "    </tr>\n",
       "    <tr>\n",
       "      <th>4</th>\n",
       "      <td>3</td>\n",
       "      <td>LV</td>\n",
       "      <td>Passenger car</td>\n",
       "      <td>Regular</td>\n",
       "      <td>110</td>\n",
       "      <td>2180</td>\n",
       "      <td>Melna</td>\n",
       "      <td>2006</td>\n",
       "      <td>8</td>\n",
       "      <td>OPEL</td>\n",
       "      <td>...</td>\n",
       "      <td>0</td>\n",
       "      <td>140.00</td>\n",
       "      <td>70.00</td>\n",
       "      <td>284.5</td>\n",
       "      <td>6460.0</td>\n",
       "      <td>1.000000</td>\n",
       "      <td>2014</td>\n",
       "      <td>4.0</td>\n",
       "      <td>1276.0</td>\n",
       "      <td>Accident</td>\n",
       "    </tr>\n",
       "  </tbody>\n",
       "</table>\n",
       "<p>5 rows × 23 columns</p>\n",
       "</div>"
      ],
      "text/plain": [
       "   policyid Country    VehicleType VehicleUsage  Power  Weight       Colour  \\\n",
       "0         1      LV  Passenger car      Regular     77    1940  Gaiši bruna   \n",
       "1         1      LV  Passenger car      Regular     77    1940  Gaiši bruna   \n",
       "2         2      LV  Passenger car      Regular     85    2500   Tumši zila   \n",
       "3         3      LV  Passenger car      Regular    110    2180        Melna   \n",
       "4         3      LV  Passenger car      Regular    110    2180        Melna   \n",
       "\n",
       "   VehicleFirstRegistrationYear  VehicleAge        Mark  ... Leasing  \\\n",
       "0                          2007           6  VOLKSWAGEN  ...       0   \n",
       "1                          2007           6  VOLKSWAGEN  ...       0   \n",
       "2                          2001          12  VOLKSWAGEN  ...       0   \n",
       "3                          2006           8        OPEL  ...       0   \n",
       "4                          2006           8        OPEL  ...       0   \n",
       "\n",
       "  Deductible_general  Deductible_glass  premium  suminsured  \\\n",
       "0             142.29             42.69    250.9      8140.0   \n",
       "1             142.29             42.69    250.9      8140.0   \n",
       "2             142.29             42.69    109.5      5710.0   \n",
       "3             140.00             70.00    284.5      6460.0   \n",
       "4             140.00             70.00    284.5      6460.0   \n",
       "\n",
       "   policy_period_in_years  year  claimid  IncurredAmount  ClaimType  \n",
       "0                1.000000  2013      1.0           197.6      Other  \n",
       "1                1.000000  2013      2.0           354.4   Accident  \n",
       "2                0.575342  2013      NaN             NaN        NaN  \n",
       "3                1.000000  2014      3.0           408.9      Glass  \n",
       "4                1.000000  2014      4.0          1276.0   Accident  \n",
       "\n",
       "[5 rows x 23 columns]"
      ]
     },
     "execution_count": 8,
     "metadata": {},
     "output_type": "execute_result"
    }
   ],
   "source": [
    "#Combine everything into one dataset\n",
    "insurance = policies.merge(claims, on = 'policyid', how = 'left')\n",
    "insurance.head()"
   ]
  },
  {
   "cell_type": "code",
   "execution_count": 19,
   "id": "a2eeb450",
   "metadata": {},
   "outputs": [
    {
     "data": {
      "text/html": [
       "<div>\n",
       "<style scoped>\n",
       "    .dataframe tbody tr th:only-of-type {\n",
       "        vertical-align: middle;\n",
       "    }\n",
       "\n",
       "    .dataframe tbody tr th {\n",
       "        vertical-align: top;\n",
       "    }\n",
       "\n",
       "    .dataframe thead th {\n",
       "        text-align: right;\n",
       "    }\n",
       "</style>\n",
       "<table border=\"1\" class=\"dataframe\">\n",
       "  <thead>\n",
       "    <tr style=\"text-align: right;\">\n",
       "      <th></th>\n",
       "      <th>policyid</th>\n",
       "      <th>Power</th>\n",
       "      <th>Weight</th>\n",
       "      <th>VehicleFirstRegistrationYear</th>\n",
       "      <th>VehicleAge</th>\n",
       "      <th>RenewalIndicator</th>\n",
       "      <th>Leasing</th>\n",
       "      <th>Deductible_general</th>\n",
       "      <th>Deductible_glass</th>\n",
       "      <th>premium</th>\n",
       "      <th>suminsured</th>\n",
       "      <th>policy_period_in_years</th>\n",
       "    </tr>\n",
       "    <tr>\n",
       "      <th>year</th>\n",
       "      <th></th>\n",
       "      <th></th>\n",
       "      <th></th>\n",
       "      <th></th>\n",
       "      <th></th>\n",
       "      <th></th>\n",
       "      <th></th>\n",
       "      <th></th>\n",
       "      <th></th>\n",
       "      <th></th>\n",
       "      <th></th>\n",
       "      <th></th>\n",
       "    </tr>\n",
       "  </thead>\n",
       "  <tbody>\n",
       "    <tr>\n",
       "      <th>2012</th>\n",
       "      <td>14532393</td>\n",
       "      <td>336421</td>\n",
       "      <td>6886312</td>\n",
       "      <td>6281451</td>\n",
       "      <td>10073</td>\n",
       "      <td>1995</td>\n",
       "      <td>1911</td>\n",
       "      <td>644707.11</td>\n",
       "      <td>211302.36</td>\n",
       "      <td>1265970.0</td>\n",
       "      <td>58506260.0</td>\n",
       "      <td>2630.764384</td>\n",
       "    </tr>\n",
       "    <tr>\n",
       "      <th>2013</th>\n",
       "      <td>13818180</td>\n",
       "      <td>338117</td>\n",
       "      <td>6769388</td>\n",
       "      <td>6093807</td>\n",
       "      <td>9609</td>\n",
       "      <td>1921</td>\n",
       "      <td>1770</td>\n",
       "      <td>566476.48</td>\n",
       "      <td>203001.33</td>\n",
       "      <td>1213137.3</td>\n",
       "      <td>62870440.0</td>\n",
       "      <td>2524.386301</td>\n",
       "    </tr>\n",
       "    <tr>\n",
       "      <th>2014</th>\n",
       "      <td>14574172</td>\n",
       "      <td>355240</td>\n",
       "      <td>6881749</td>\n",
       "      <td>6245425</td>\n",
       "      <td>10059</td>\n",
       "      <td>1926</td>\n",
       "      <td>1824</td>\n",
       "      <td>635681.57</td>\n",
       "      <td>207676.22</td>\n",
       "      <td>1282825.9</td>\n",
       "      <td>68315600.0</td>\n",
       "      <td>2581.594521</td>\n",
       "    </tr>\n",
       "  </tbody>\n",
       "</table>\n",
       "</div>"
      ],
      "text/plain": [
       "      policyid   Power   Weight  VehicleFirstRegistrationYear  VehicleAge  \\\n",
       "year                                                                        \n",
       "2012  14532393  336421  6886312                       6281451       10073   \n",
       "2013  13818180  338117  6769388                       6093807        9609   \n",
       "2014  14574172  355240  6881749                       6245425       10059   \n",
       "\n",
       "      RenewalIndicator  Leasing  Deductible_general  Deductible_glass  \\\n",
       "year                                                                    \n",
       "2012              1995     1911           644707.11         211302.36   \n",
       "2013              1921     1770           566476.48         203001.33   \n",
       "2014              1926     1824           635681.57         207676.22   \n",
       "\n",
       "        premium  suminsured  policy_period_in_years  \n",
       "year                                                 \n",
       "2012  1265970.0  58506260.0             2630.764384  \n",
       "2013  1213137.3  62870440.0             2524.386301  \n",
       "2014  1282825.9  68315600.0             2581.594521  "
      ]
     },
     "execution_count": 19,
     "metadata": {},
     "output_type": "execute_result"
    }
   ],
   "source": [
    "policies_by_year = policies.groupby('year').sum()\n",
    "policies_by_year"
   ]
  },
  {
   "cell_type": "markdown",
   "id": "d6534312",
   "metadata": {},
   "source": [
    "## 2. Sales Analysis"
   ]
  },
  {
   "cell_type": "markdown",
   "id": "aaa62b25",
   "metadata": {},
   "source": [
    "### 2.1 Sales by Year"
   ]
  },
  {
   "cell_type": "code",
   "execution_count": 159,
   "id": "0082936e",
   "metadata": {},
   "outputs": [
    {
     "data": {
      "text/plain": [
       "<Figure size 864x432 with 0 Axes>"
      ]
     },
     "metadata": {},
     "output_type": "display_data"
    },
    {
     "data": {
      "text/plain": [
       "<Figure size 7200x4800 with 0 Axes>"
      ]
     },
     "metadata": {},
     "output_type": "display_data"
    },
    {
     "data": {
      "image/png": "[encoded data removed]",
      "text/plain": [
       "<Figure size 360x360 with 1 Axes>"
      ]
     },
     "metadata": {},
     "output_type": "display_data"
    }
   ],
   "source": [
    "#Set style\n",
    "sns.set_style({'font.family':'sans-serif', 'font.serif':'Arial'})\n",
    "font = {'fontname':'Helvetica'}\n",
    "plt.figure(figsize =(12, 6))\n",
    "plt.figure(dpi=1200)\n",
    "\n",
    "#Plot data\n",
    "g = sns.catplot(data=insurance,\n",
    "            kind=\"bar\",\n",
    "            x=\"year\",\n",
    "            y=\"premium\",\n",
    "            \n",
    "            palette=\"mako\",\n",
    "            ci=None,\n",
    "            alpha=0.9)\n",
    "\n",
    "#Add/remove text\n",
    "g.despine(left=True)\n",
    "#g.legend.set_title(\"\")\n",
    "g.set_axis_labels(\" \", \" \", fontsize=12)\n",
    "#g.set(yticks=[])\n",
    "#g.fig.suptitle(\"Premium by vechicle types\", fontsize=16)\n",
    "\n",
    "#Save as SVG for presentation\n",
    "plt.savefig('Sales_Year.svg')\n",
    "plt.show()"
   ]
  },
  {
   "cell_type": "markdown",
   "id": "61b06f6f",
   "metadata": {},
   "source": [
    "### 2.2. Sales by Vechicle Type"
   ]
  },
  {
   "cell_type": "code",
   "execution_count": 160,
   "id": "f8c2d16c",
   "metadata": {},
   "outputs": [
    {
     "data": {
      "text/plain": [
       "<Figure size 720x504 with 0 Axes>"
      ]
     },
     "metadata": {},
     "output_type": "display_data"
    },
    {
     "data": {
      "text/plain": [
       "<Figure size 7200x4800 with 0 Axes>"
      ]
     },
     "metadata": {},
     "output_type": "display_data"
    },
    {
     "data": {
      "image/png": "[encoded data removed]",
      "text/plain": [
       "<Figure size 470.475x360 with 1 Axes>"
      ]
     },
     "metadata": {},
     "output_type": "display_data"
    }
   ],
   "source": [
    "#Set style\n",
    "sns.set_style({'font.family':'sans-serif', 'font.serif':'Arial'})\n",
    "font = {'fontname':'Helvetica'}\n",
    "plt.figure(figsize =(10, 7))\n",
    "plt.figure(dpi=1200)\n",
    "\n",
    "#Plot data\n",
    "g = sns.catplot(data=insurance,\n",
    "            kind=\"bar\",\n",
    "            x=\"year\",\n",
    "            y=\"premium\",\n",
    "            hue=\"VehicleType\",\n",
    "            palette=\"mako\",\n",
    "            ci=None,\n",
    "            alpha=0.9)\n",
    "\n",
    "#Add/remove text\n",
    "g.despine(left=True)\n",
    "g.legend.set_title(\"\")\n",
    "g.set_axis_labels(\"\", \" \", fontsize=12)\n",
    "#g.set(yticks=[])\n",
    "#g.fig.suptitle(\"Premium by vechicle types\", fontsize=16)\n",
    "\n",
    "#Save as SVG for presentation\n",
    "plt.savefig('Sales_Vechicle_Type.svg')\n",
    "plt.show()"
   ]
  },
  {
   "cell_type": "markdown",
   "id": "b9209a72",
   "metadata": {},
   "source": [
    "### 2.3. Sales by Vechicle Usage"
   ]
  },
  {
   "cell_type": "code",
   "execution_count": 43,
   "id": "1dff74ec",
   "metadata": {},
   "outputs": [
    {
     "data": {
      "text/plain": [
       "<Figure size 720x504 with 0 Axes>"
      ]
     },
     "metadata": {},
     "output_type": "display_data"
    },
    {
     "data": {
      "text/plain": [
       "<Figure size 7200x4800 with 0 Axes>"
      ]
     },
     "metadata": {},
     "output_type": "display_data"
    },
    {
     "data": {
      "image/png": "[encoded data removed]",
      "text/plain": [
       "<Figure size 462.75x360 with 1 Axes>"
      ]
     },
     "metadata": {},
     "output_type": "display_data"
    }
   ],
   "source": [
    "#Set style\n",
    "sns.set_style({'font.family':'sans-serif', 'font.serif':'Arial'})\n",
    "sns.set_style('whitegrid')\n",
    "plt.figure(figsize =(10, 7))\n",
    "plt.figure(dpi=1200)\n",
    "\n",
    "#Plot data\n",
    "g = sns.catplot(data=insurance,\n",
    "            kind='bar',\n",
    "            x='year',\n",
    "            y='premium',\n",
    "            hue='EngineType\",\n",
    "            palette=\"mako\",\n",
    "            ci=None,\n",
    "            alpha=0.9)\n",
    "\n",
    "#Add/remove text\n",
    "g.despine(left=True)\n",
    "g.legend.set_title(\"\")\n",
    "g.set_axis_labels(\"\", \" \", fontsize=12)\n",
    "#g.set(yticks=[])\n",
    "#g.fig.suptitle(\"Premium by vechicle types\", fontsize=16)\n",
    "\n",
    "#Save as SVG for presentation\n",
    "plt.savefig('Sales_Vechicle_Usage.svg')\n",
    "plt.show()"
   ]
  },
  {
   "cell_type": "markdown",
   "id": "cfa109b4",
   "metadata": {},
   "source": [
    "### 2.4. Sales by Engine Type"
   ]
  },
  {
   "cell_type": "code",
   "execution_count": 163,
   "id": "04482076",
   "metadata": {},
   "outputs": [
    {
     "data": {
      "text/plain": [
       "<Figure size 720x504 with 0 Axes>"
      ]
     },
     "metadata": {},
     "output_type": "display_data"
    },
    {
     "data": {
      "text/plain": [
       "<Figure size 7200x4800 with 0 Axes>"
      ]
     },
     "metadata": {},
     "output_type": "display_data"
    },
    {
     "data": {
      "image/png": "[encoded data removed]",
      "text/plain": [
       "<Figure size 472.975x360 with 1 Axes>"
      ]
     },
     "metadata": {},
     "output_type": "display_data"
    }
   ],
   "source": [
    "#Set style\n",
    "sns.set_style({'font.family':'sans-serif', 'font.serif':'Arial'})\n",
    "font = {'fontname':'Helvetica'}\n",
    "plt.figure(figsize =(10, 7))\n",
    "plt.figure(dpi=1200)\n",
    "\n",
    "#Plot data\n",
    "g = sns.catplot(data=insurance,\n",
    "            kind=\"bar\",\n",
    "            x=\"year\",\n",
    "            y=\"premium\",\n",
    "            hue=\"EngineType\",\n",
    "            palette=\"mako\",\n",
    "            ci=None,\n",
    "            alpha=0.9)\n",
    "\n",
    "#Add/remove text\n",
    "g.despine(left=True)\n",
    "g.legend.set_title(\"\")\n",
    "g.set_axis_labels(\"\", \" \", fontsize=12)\n",
    "#g.set(yticks=[])\n",
    "#g.fig.suptitle(\"Premium by vechicle types\", fontsize=16)\n",
    "\n",
    "#Save as SVG for presentation\n",
    "plt.savefig('Sales_Engine_Type.svg')\n",
    "plt.show()"
   ]
  },
  {
   "cell_type": "markdown",
   "id": "181de434",
   "metadata": {},
   "source": [
    "### 3. Claims Analysis"
   ]
  },
  {
   "cell_type": "code",
   "execution_count": 164,
   "id": "ed8f1669",
   "metadata": {},
   "outputs": [
    {
     "data": {
      "text/plain": [
       "<Figure size 720x504 with 0 Axes>"
      ]
     },
     "metadata": {},
     "output_type": "display_data"
    },
    {
     "data": {
      "text/plain": [
       "<Figure size 7200x4800 with 0 Axes>"
      ]
     },
     "metadata": {},
     "output_type": "display_data"
    },
    {
     "data": {
      "image/png": "[encoded data removed]",
      "text/plain": [
       "<Figure size 441.975x360 with 1 Axes>"
      ]
     },
     "metadata": {},
     "output_type": "display_data"
    }
   ],
   "source": [
    "#Set style\n",
    "sns.set_style({'font.family':'sans-serif', 'font.serif':'Arial'})\n",
    "font = {'fontname':'Helvetica'}\n",
    "plt.figure(figsize =(10, 7))\n",
    "plt.figure(dpi=1200)\n",
    "\n",
    "#Plot data\n",
    "g = sns.catplot(data=insurance,\n",
    "            kind=\"bar\",\n",
    "            x=\"year\",\n",
    "            y=\"IncurredAmount\",\n",
    "            hue=\"ClaimType\",\n",
    "            palette=\"mako\",\n",
    "            ci=None,\n",
    "            alpha=0.9)\n",
    "\n",
    "#Add/remove text\n",
    "g.despine(left=True)\n",
    "g.legend.set_title(\"\")\n",
    "g.set_axis_labels(\"\", \" \", fontsize=12)\n",
    "#g.set(yticks=[])\n",
    "#g.fig.suptitle(\"Premium by vechicle types\", fontsize=16)\n",
    "\n",
    "#Save as SVG for presentation\n",
    "plt.savefig('Claims_Claim_Type.svg')\n",
    "plt.show()"
   ]
  },
  {
   "cell_type": "code",
   "execution_count": 174,
   "id": "65b490e6",
   "metadata": {},
   "outputs": [
    {
     "data": {
      "text/plain": [
       "<seaborn.axisgrid.FacetGrid at 0x219b43244c0>"
      ]
     },
     "execution_count": 174,
     "metadata": {},
     "output_type": "execute_result"
    },
    {
     "data": {
      "text/plain": [
       "<Figure size 720x504 with 0 Axes>"
      ]
     },
     "metadata": {},
     "output_type": "display_data"
    },
    {
     "data": {
      "text/plain": [
       "<Figure size 7200x4800 with 0 Axes>"
      ]
     },
     "metadata": {},
     "output_type": "display_data"
    },
    {
     "data": {
      "image/png": "[encoded data removed]",
      "text/plain": [
       "<Figure size 1214.35x360 with 3 Axes>"
      ]
     },
     "metadata": {},
     "output_type": "display_data"
    }
   ],
   "source": [
    "#Set style\n",
    "sns.set_style({'font.family':'sans-serif', 'font.serif':'Arial'})\n",
    "font = {'fontname':'Helvetica'}\n",
    "plt.figure(figsize =(10, 7))\n",
    "plt.figure(dpi=1200)\n",
    "\n",
    "sns.relplot(\n",
    "    data=insurance, x=\"suminsured\", y=\"IncurredAmount\",\n",
    "    col=\"year\", hue=\"Mark\",\n",
    "    \n",
    "    kind=\"scatter\"\n",
    ")\n"
   ]
  },
  {
   "cell_type": "code",
   "execution_count": null,
   "id": "6d35477c",
   "metadata": {},
   "outputs": [],
   "source": []
  }
 ],
 "metadata": {
  "kernelspec": {
   "display_name": "Python 3",
   "language": "python",
   "name": "python3"
  },
  "language_info": {
   "codemirror_mode": {
    "name": "ipython",
    "version": 3
   },
   "file_extension": ".py",
   "mimetype": "text/x-python",
   "name": "python",
   "nbconvert_exporter": "python",
   "pygments_lexer": "ipython3",
   "version": "3.8.8"
  }
 },
 "nbformat": 4,
 "nbformat_minor": 5
}
