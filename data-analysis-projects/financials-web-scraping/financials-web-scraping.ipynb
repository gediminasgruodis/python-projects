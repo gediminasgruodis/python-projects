{
 "cells": [
  {
   "cell_type": "markdown",
   "metadata": {},
   "source": [
    "# Financial Data Scraping"
   ]
  },
  {
   "cell_type": "markdown",
   "metadata": {},
   "source": [
    "## Project Overview\n",
    "This project aims to scrape financial data of Lithuanian IT companies from the website rekvizitai.lt.\n",
    "The website contains information about various companies, including their financial reports.\n",
    "We will extract the names of IT companies from the website and create a DataFrame to store the data."
   ]
  },
  {
   "cell_type": "markdown",
   "metadata": {},
   "source": [
    "### 1. Acquiring Company Names\n",
    "The initial step of this project involves the acquisition of company names from the rekvizitai.lt website. The primary objective is to gather a comprehensive list of Lithuanian IT companies. By obtaining this essential information, we pave the way for further exploration and analysis of their financial data."
   ]
  },
  {
   "cell_type": "code",
   "execution_count": 20,
   "metadata": {},
   "outputs": [
    {
     "name": "stdout",
     "output_type": "stream",
     "text": [
      "                        Company\n",
      "0                auriga_baltics\n",
      "4     edrana_a_lukosienes_imone\n",
      "8             czar_intelligence\n",
      "12                       rivile\n",
      "16                       ilotus\n",
      "...                         ...\n",
      "1810                   kirotech\n",
      "1814                   komvista\n",
      "1818               uab_linditex\n",
      "1822                   liubitas\n",
      "1826           midpoint_systems\n",
      "\n",
      "[335 rows x 1 columns]\n"
     ]
    }
   ],
   "source": [
    "import requests\n",
    "from bs4 import BeautifulSoup\n",
    "import pandas as pd\n",
    "\n",
    "base_url = 'https://rekvizitai.vz.lt/imones/kompiuteriu_programines_irangos_kurimas/'\n",
    "\n",
    "# Create an empty list to store the company names\n",
    "company_names = []\n",
    "\n",
    "# Loop through pages 1 to 222\n",
    "for page_number in range(1, 223):\n",
    "    url = f'{base_url}{page_number}/'\n",
    "\n",
    "    # Send an HTTP request to the page\n",
    "    response = requests.get(url)\n",
    "\n",
    "    # Check if the request was successful\n",
    "    if response.status_code == 200:\n",
    "        # Parse the HTML content using BeautifulSoup\n",
    "        soup = BeautifulSoup(response.content, 'html.parser')\n",
    "\n",
    "        # Find all the links on the page\n",
    "        links = soup.find_all('a')\n",
    "\n",
    "        # Extract the company names from the links and add them to the list\n",
    "        for link in links:\n",
    "            href = link.get('href')\n",
    "            if href is not None and href.startswith('https://rekvizitai.vz.lt/imone/'):\n",
    "                company_name = href.replace('https://rekvizitai.vz.lt/imone/', '').rstrip('/')\n",
    "                if not company_name.endswith('/atsiliepimai'):\n",
    "                    company_names.append(company_name)\n",
    "\n",
    "    else:\n",
    "        print(f'Failed to fetch the page. Status code: {response.status_code}')\n",
    "\n",
    "# Create a DataFrame from the list of company names\n",
    "df = pd.DataFrame(company_names, columns=['Company'])\n",
    "\n",
    "# Remove duplicates from the DataFrame\n",
    "df.drop_duplicates(inplace=True)\n",
    "\n",
    "# Print the DataFrame\n",
    "print(df)"
   ]
  },
  {
   "cell_type": "markdown",
   "metadata": {},
   "source": [
    "### 2. Acquiring and Mergin the Financial Data\n",
    "Having successfully acquired the list of Lithuanian IT company names, the next crucial step of the project involves gathering the final financial data from each of these companies. To achieve this, we employ web scraping techniques once again, this time focusing on individual pages dedicated to each company's financial information."
   ]
  },
  {
   "cell_type": "code",
   "execution_count": 37,
   "metadata": {},
   "outputs": [
    {
     "name": "stdout",
     "output_type": "stream",
     "text": [
      "                                    Metai         2018         2019  \\\n",
      "0                       Ilgalaikis turtas     84 225 €     96 821 €   \n",
      "1                     Trumpalaikis turtas    206 273 €    396 870 €   \n",
      "2                      Nuosavas kapitalas     89 837 €    117 023 €   \n",
      "3      Mokėtinos sumos ir įsipareigojimai    207 732 €    384 641 €   \n",
      "4                       Pardavimo pajamos  2 120 944 €  2 864 857 €   \n",
      "...                                   ...          ...          ...   \n",
      "2914                    Pardavimo pajamos    455 493 €    553 047 €   \n",
      "2915  Pelnas (nuostoliai) prieš mokesčius     27 030 €     -2 733 €   \n",
      "2916          Pelningumas prieš mokesčius       5,93 %      -0,49 %   \n",
      "2917         Grynasis pelnas (nuostoliai)     25 773 €     -2 733 €   \n",
      "2918                 Grynasis pelningumas       5,66 %      -0,49 %   \n",
      "\n",
      "             2020         2021         2022           Company 2017 2016 2023  \\\n",
      "0       115 585 €    200 122 €    185 397 €    auriga_baltics  NaN  NaN  NaN   \n",
      "1       493 235 €    330 325 €    532 162 €    auriga_baltics  NaN  NaN  NaN   \n",
      "2       148 366 €    243 975 €    351 993 €    auriga_baltics  NaN  NaN  NaN   \n",
      "3       469 882 €    300 705 €    382 583 €    auriga_baltics  NaN  NaN  NaN   \n",
      "4     3 669 995 €  5 008 532 €  4 256 410 €    auriga_baltics  NaN  NaN  NaN   \n",
      "...           ...          ...          ...               ...  ...  ...  ...   \n",
      "2914    672 398 €    894 791 €  1 290 876 €  midpoint_systems  NaN  NaN  NaN   \n",
      "2915      1 233 €      3 473 €     52 775 €  midpoint_systems  NaN  NaN  NaN   \n",
      "2916       0,18 %       0,39 %       4,09 %  midpoint_systems  NaN  NaN  NaN   \n",
      "2917      1 068 €      1 748 €     44 559 €  midpoint_systems  NaN  NaN  NaN   \n",
      "2918       0,16 %       0,20 %       3,45 %  midpoint_systems  NaN  NaN  NaN   \n",
      "\n",
      "     2015 2014  \n",
      "0     NaN  NaN  \n",
      "1     NaN  NaN  \n",
      "2     NaN  NaN  \n",
      "3     NaN  NaN  \n",
      "4     NaN  NaN  \n",
      "...   ...  ...  \n",
      "2914  NaN  NaN  \n",
      "2915  NaN  NaN  \n",
      "2916  NaN  NaN  \n",
      "2917  NaN  NaN  \n",
      "2918  NaN  NaN  \n",
      "\n",
      "[2919 rows x 12 columns]\n"
     ]
    }
   ],
   "source": [
    "import requests\n",
    "import pandas as pd\n",
    "from bs4 import BeautifulSoup\n",
    "\n",
    "# Load the DataFrame with company names from the provided script\n",
    "# Replace \"company_names.csv\" with the actual filename or path if needed\n",
    "\n",
    "\n",
    "# Create an empty list to store all the data from different companies\n",
    "all_data_list = []\n",
    "\n",
    "# Loop through each company to visit their individual pages and extract data\n",
    "for index, row in df.iterrows():\n",
    "    # Construct the URL for the company's financial data page\n",
    "    company_url = f\"https://rekvizitai.vz.lt/imone/{row['Company']}/apyvarta/\"\n",
    "\n",
    "    # Send a request to fetch the company's page content\n",
    "    response = requests.get(company_url)\n",
    "\n",
    "    # Check if the request was successful\n",
    "    if response.status_code == 200:\n",
    "        # Parse the HTML content of the company's page\n",
    "        soup = BeautifulSoup(response.content, \"html.parser\")\n",
    "\n",
    "        # Find the table element on the company's page (you may need to inspect the page's HTML to find the correct table)\n",
    "        table = soup.find(\"table\")\n",
    "\n",
    "        # Check if the table was found\n",
    "        if table:\n",
    "            # Get the table rows\n",
    "            rows = table.find_all(\"tr\")\n",
    "\n",
    "            # Get the header columns (column names) from the first row\n",
    "            header_row = rows[0]\n",
    "            headers = header_row.find_all(\"th\")\n",
    "            headers = [header.text.strip() for header in headers]\n",
    "\n",
    "            # Loop through the remaining rows and extract the data\n",
    "            for data_row in rows[1:]:\n",
    "                # Get the columns in each row\n",
    "                cols = data_row.find_all(\"td\")\n",
    "\n",
    "                # Extract the data from each column and store it in a dictionary\n",
    "                data_dict = {}\n",
    "                if cols:\n",
    "                    for i, header in enumerate(headers):\n",
    "                        data_dict[header] = cols[i].text.strip()\n",
    "                    data_dict['Company'] = row['Company']  # Add company name to data_dict\n",
    "                    all_data_list.append(data_dict)\n",
    "        else:\n",
    "            print(f\"Table not found for {row['Company']}.\")\n",
    "    else:\n",
    "        print(f\"Failed to fetch the web page for {row['Company']}. Status code:\", response.status_code)\n",
    "\n",
    "# Create a pandas DataFrame from the list of dictionaries for all companies\n",
    "result_df = pd.DataFrame(all_data_list)\n",
    "\n",
    "# Print the DataFrame\n",
    "print(result_df)"
   ]
  },
  {
   "cell_type": "code",
   "execution_count": 94,
   "metadata": {},
   "outputs": [
    {
     "data": {
      "text/html": [
       "<div>\n",
       "<style scoped>\n",
       "    .dataframe tbody tr th:only-of-type {\n",
       "        vertical-align: middle;\n",
       "    }\n",
       "\n",
       "    .dataframe tbody tr th {\n",
       "        vertical-align: top;\n",
       "    }\n",
       "\n",
       "    .dataframe thead th {\n",
       "        text-align: right;\n",
       "    }\n",
       "</style>\n",
       "<table border=\"1\" class=\"dataframe\">\n",
       "  <thead>\n",
       "    <tr style=\"text-align: right;\">\n",
       "      <th></th>\n",
       "      <th>company</th>\n",
       "      <th>financial_line</th>\n",
       "      <th>year</th>\n",
       "      <th>financial_result</th>\n",
       "    </tr>\n",
       "  </thead>\n",
       "  <tbody>\n",
       "    <tr>\n",
       "      <th>0</th>\n",
       "      <td>auriga_baltics</td>\n",
       "      <td>Ilgalaikis turtas</td>\n",
       "      <td>2014</td>\n",
       "      <td>NaN</td>\n",
       "    </tr>\n",
       "    <tr>\n",
       "      <th>1</th>\n",
       "      <td>auriga_baltics</td>\n",
       "      <td>Trumpalaikis turtas</td>\n",
       "      <td>2014</td>\n",
       "      <td>NaN</td>\n",
       "    </tr>\n",
       "    <tr>\n",
       "      <th>2</th>\n",
       "      <td>auriga_baltics</td>\n",
       "      <td>Nuosavas kapitalas</td>\n",
       "      <td>2014</td>\n",
       "      <td>NaN</td>\n",
       "    </tr>\n",
       "    <tr>\n",
       "      <th>3</th>\n",
       "      <td>auriga_baltics</td>\n",
       "      <td>Mokėtinos sumos ir įsipareigojimai</td>\n",
       "      <td>2014</td>\n",
       "      <td>NaN</td>\n",
       "    </tr>\n",
       "    <tr>\n",
       "      <th>4</th>\n",
       "      <td>auriga_baltics</td>\n",
       "      <td>Pardavimo pajamos</td>\n",
       "      <td>2014</td>\n",
       "      <td>NaN</td>\n",
       "    </tr>\n",
       "  </tbody>\n",
       "</table>\n",
       "</div>"
      ],
      "text/plain": [
       "          company                      financial_line  year financial_result\n",
       "0  auriga_baltics                   Ilgalaikis turtas  2014              NaN\n",
       "1  auriga_baltics                 Trumpalaikis turtas  2014              NaN\n",
       "2  auriga_baltics                  Nuosavas kapitalas  2014              NaN\n",
       "3  auriga_baltics  Mokėtinos sumos ir įsipareigojimai  2014              NaN\n",
       "4  auriga_baltics                   Pardavimo pajamos  2014              NaN"
      ]
     },
     "execution_count": 94,
     "metadata": {},
     "output_type": "execute_result"
    }
   ],
   "source": [
    "df_unpivot = pd.melt(result_df, id_vars=['Company', 'Metai'], value_vars=['2014',\n",
    "                                                                          '2015',\n",
    "                                                                          '2016',\n",
    "                                                                          '2017',\n",
    "                                                                          '2018',\n",
    "                                                                          '2019',\n",
    "                                                                          '2020',\n",
    "                                                                          '2021',\n",
    "                                                                          '2022'\n",
    "                                                                          ])\n",
    "# Rename the columns for clarity\n",
    "df_unpivot.rename(columns={\n",
    "    'Company': 'company',\n",
    "    'Metai': 'financial_line',\n",
    "    'variable': 'year',\n",
    "    'value': 'financial_result'\n",
    "}, inplace=True)\n",
    "\n",
    "df_unpivot.head()"
   ]
  },
  {
   "cell_type": "markdown",
   "metadata": {},
   "source": [
    "### 3. Visualizing the Data\n",
    "The last step of this analysis is to visualize the gathered data"
   ]
  },
  {
   "cell_type": "code",
   "execution_count": 95,
   "metadata": {},
   "outputs": [
    {
     "data": {
      "image/png": "[encoded data removed]",
      "text/plain": [
       "<Figure size 720x432 with 1 Axes>"
      ]
     },
     "metadata": {
      "needs_background": "light"
     },
     "output_type": "display_data"
    }
   ],
   "source": [
    "import pandas as pd\n",
    "import matplotlib.pyplot as plt\n",
    "import seaborn as sns\n",
    "\n",
    "# Assuming the df_unpivot DataFrame is already created with the given data\n",
    "# Convert the 'financial_result' column to numeric data type after replacing empty strings with NaN\n",
    "df_unpivot['financial_result'] = pd.to_numeric(df_unpivot['financial_result'].str.replace('[^\\d.]', '', regex=True), errors='coerce')\n",
    "\n",
    "# Filter the data for the 'Pardavimo pajamos' financial_line\n",
    "pardavimo_pajamos_data = df_unpivot[df_unpivot['financial_line'] == 'Pardavimo pajamos']\n",
    "\n",
    "# Group the data by year and calculate the sum of 'financial_result'\n",
    "grouped_data = pardavimo_pajamos_data.groupby('year')['financial_result'].sum()\n",
    "\n",
    "# Plot the aggregated yearly bar chart using Seaborn with specific settings\n",
    "plt.figure(figsize=(10, 6))\n",
    "sns.barplot(x=grouped_data.index, y=grouped_data.values, color='indigo')\n",
    "plt.title(\"Aggregated Yearly Revenue for Lithuanian IT Sector Companies\")\n",
    "plt.xlabel(\"Year\")\n",
    "plt.ylabel(\"Total Revenue (Millions)\")\n",
    "plt.xticks(rotation=45)\n",
    "\n",
    "# Set y-axis limit to 1000 million\n",
    "plt.ylim(0, 1000e6)\n",
    "\n",
    "# Format y-axis tick labels to display values in millions\n",
    "plt.gca().yaxis.set_major_formatter(lambda x, _: f'€{x/1e6:.0f}M')\n",
    "\n",
    "# Display the values on top of each bar with proper formatting\n",
    "for index, value in enumerate(grouped_data.values):\n",
    "    plt.text(index, value, f'€{value/1e6:.0f}M', ha='center', va='bottom')\n",
    "\n",
    "plt.grid(True, which='both', linestyle='', linewidth=0.5)\n",
    "\n",
    "plt.show()\n"
   ]
  },
  {
   "cell_type": "markdown",
   "metadata": {},
   "source": [
    "## Conclusions\n",
    "The project allows to quickly see the financial results in Lithuanian market. Similar logic could be applied to other sectors as well"
   ]
  }
 ],
 "metadata": {
  "kernelspec": {
   "display_name": "Python 3",
   "language": "python",
   "name": "python3"
  },
  "language_info": {
   "codemirror_mode": {
    "name": "ipython",
    "version": 3
   },
   "file_extension": ".py",
   "mimetype": "text/x-python",
   "name": "python",
   "nbconvert_exporter": "python",
   "pygments_lexer": "ipython3",
   "version": "3.8.5"
  }
 },
 "nbformat": 4,
 "nbformat_minor": 4
}
